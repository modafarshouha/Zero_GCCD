{
 "cells": [
  {
   "cell_type": "markdown",
   "metadata": {
    "id": "oCrITXmp92JM"
   },
   "source": [
    "# Libraries and source files"
   ]
  },
  {
   "cell_type": "code",
   "execution_count": null,
   "metadata": {
    "colab": {
     "base_uri": "https://localhost:8080/"
    },
    "id": "yKS--k569gWX",
    "outputId": "f8d86414-0593-4241-fc9a-5a745b631a96"
   },
   "outputs": [],
   "source": [
    "folder_path = \"folder_path...\""
   ]
  },
  {
   "cell_type": "markdown",
   "metadata": {
    "id": "ggqr1MJN-HQK"
   },
   "source": [
    "# Import"
   ]
  },
  {
   "cell_type": "code",
   "execution_count": 102,
   "metadata": {
    "id": "APmnBYUs96An"
   },
   "outputs": [],
   "source": [
    "import numpy as np\n",
    "import matplotlib.pyplot as plt\n",
    "from tqdm import tqdm\n",
    "import os\n",
    "import pickle\n",
    "\n",
    "from sklearn.metrics import balanced_accuracy_score\n",
    "\n",
    "# from google.colab import userdata\n",
    "import google.generativeai as genai\n",
    "from transformers import BertTokenizer, BertModel\n",
    "\n",
    "import torch\n",
    "import torchvision\n",
    "# import torchvision.transforms as transforms\n",
    "from torchvision.transforms import ToTensor\n",
    "from PIL import Image"
   ]
  },
  {
   "cell_type": "code",
   "execution_count": 91,
   "metadata": {
    "id": "ENxOcrbJLh5X"
   },
   "outputs": [],
   "source": [
    "import warnings\n",
    "warnings.filterwarnings('ignore')"
   ]
  },
  {
   "cell_type": "code",
   "execution_count": 92,
   "metadata": {},
   "outputs": [],
   "source": [
    "def rescale_image(im):\n",
    "  if np.max(im) <= 1.0:\n",
    "    im = im*255\n",
    "  return im"
   ]
  },
  {
   "cell_type": "markdown",
   "metadata": {
    "id": "b0DJooA6-NwG"
   },
   "source": [
    "# Models"
   ]
  },
  {
   "cell_type": "markdown",
   "metadata": {
    "id": "sN_mfmu-E5Ll"
   },
   "source": [
    "## Language model"
   ]
  },
  {
   "cell_type": "code",
   "execution_count": 93,
   "metadata": {
    "id": "dCvGE0GplQrx"
   },
   "outputs": [],
   "source": [
    "device = torch.device(\"cuda\" if torch.cuda.is_available() else \"cpu\")"
   ]
  },
  {
   "cell_type": "code",
   "execution_count": 94,
   "metadata": {
    "id": "fitxYnxJiKkY"
   },
   "outputs": [],
   "source": [
    "def move_model_to_cuda(model):\n",
    "    if torch.cuda.is_available():\n",
    "        device = torch.device(\"cuda\")\n",
    "        # print(f\"Moving model to {device}\")\n",
    "        try:\n",
    "            for attr_name in [\"transformer\", \"model\", \"decoder\", \"encoder\"]:\n",
    "                if hasattr(model, attr_name):\n",
    "                    attr = getattr(model, attr_name)\n",
    "                    if isinstance(attr, torch.nn.ModuleList):\n",
    "                        for module in attr:\n",
    "                            module.to(device)\n",
    "                    elif isinstance(attr, torch.nn.ModuleDict):\n",
    "                        for module in attr.values():\n",
    "                            module.to(device)\n",
    "                    elif isinstance(attr, torch.nn.Module):\n",
    "                        attr.to(device)\n",
    "                    else:\n",
    "                        print(f\"Warning: Attribute '{attr_name}' is not a torch.nn.Module.\")\n",
    "            if hasattr(model, \"embed_tokens\"):\n",
    "                model.embed_tokens.to(device)\n",
    "            if hasattr(model, \"wte\"):\n",
    "                model.wte.to(device)\n",
    "            if hasattr(model, \"lm_head\"):\n",
    "                model.lm_head.to(device)\n",
    "            return model\n",
    "        except Exception as e:\n",
    "            raise RuntimeError(f\"Error moving model to CUDA: {e}\")\n",
    "    else:\n",
    "        print(\"CUDA is not available. Keeping model on CPU.\")\n",
    "        return model"
   ]
  },
  {
   "cell_type": "code",
   "execution_count": null,
   "metadata": {
    "colab": {
     "base_uri": "https://localhost:8080/"
    },
    "id": "wPXkFhr8uMQ4",
    "outputId": "eef69301-a826-4d18-a62a-0012878a6e9c"
   },
   "outputs": [],
   "source": [
    "# Set Gemini API key\n",
    "genai.configure(api_key=Gemini_API_KEY)\n",
    "\n",
    "language_model = genai.GenerativeModel(\"gemini-1.5-flash\")\n",
    "\n",
    "# Set Gemini API key\n",
    "# os.environ[\"Gemini_API_KEY\"] = userdata.get('Gemini_API_KEY')\n",
    "# genai.configure(api_key=os.environ[\"Gemini_API_KEY\"])\n",
    "\n",
    "def create_Gen_Model():\n",
    "  model = genai.GenerativeModel(\"gemini-1.5-flash\")\n",
    "  if torch.cuda.is_available():\n",
    "    # print(\"cuda available!\")\n",
    "    model = move_model_to_cuda(model)\n",
    "    return model"
   ]
  },
  {
   "cell_type": "markdown",
   "metadata": {
    "id": "SKapmNnnXhag"
   },
   "source": [
    "## BERT"
   ]
  },
  {
   "cell_type": "code",
   "execution_count": 96,
   "metadata": {
    "colab": {
     "base_uri": "https://localhost:8080/",
     "height": 177,
     "referenced_widgets": [
      "489ec2c56b5241a7ab1a17f3929587ac",
      "062ab86749c2406ab9c935025c9a7d1e",
      "61c4e366d1ba42519382328a5826b51c",
      "9d16a275485e4af6a779635d2b3b2758",
      "a8d1f7097bbb40a5b25f6db12a82f56a",
      "2a76bed1f8b3493087b087f1437930c3",
      "5cfd196eea3e4c9ba4ebc783b127d759",
      "9a84a27bfc4948d5ac464426ed8d48ca",
      "7f975f6b669f4544b8a0e33dcb088be4",
      "d22d965a60d840f894f8711db7070d99",
      "fb5719ba31574dfbb077a64b8dd8ae40",
      "0db4ed92893b400b9a96ae11cf13669d",
      "71ffe7a4a8bb45559cab607301e4e1fe",
      "f42b802811294f63bbb1f48cddbda7bc",
      "dd3e056ed5244973806f261088af8010",
      "5dbc613ed7db4485a3e24fce7fcdd0d8",
      "010f31e2dd884f98a00381cccf5026e9",
      "99ac2d3c538445aaa22bb647b6ba2da0",
      "bba0a9c30dae4e23922a836642a4e585",
      "27d187ffbf3a4966bbab28f381296430",
      "a9a9fb62770c4188a9797f199d2abf65",
      "cedb187d13584c36addb1990e6b0ea5f",
      "16428969619b43d5ab6accfeb7122e1d",
      "f0ea6847c18e43b9b10b51270b74111b",
      "311e058537b54668a7c03baf7afe6ce8",
      "5186fbfcb6d841f08a9938180c7c4bba",
      "15b84c5231fb4c1ebb30a080a1fe3c2f",
      "4c065c2ee2eb48888b6a53bacdc19175",
      "db7a1d4059494c2b8bfd6c765a3f26c7",
      "22d0c0aad6324f8c9ac71c120dab922d",
      "38f8aa0eabf64cfe8dcf83a421d40a35",
      "7fff72d3151e47ca87485d7be20087c1",
      "0f87f50e8e5d4765b20a07c11eb3f768",
      "5fe8b6bce900452b8dc023b37c053e31",
      "db07b53161cb4aefb53f7cbeff7d0481",
      "0ecdf66d60e649299bba2bed24c96298",
      "96bb1e5a7d604de5a1a4128414a449ef",
      "4aff5224a8154d62be1ca706fdcafee1",
      "052340b6f4f949bab48be3ed172edff0",
      "4f97cea08c7245e7b7cd9eee2c186132",
      "84b3843c4a0f4326bfd61d1a31d9eef8",
      "dab754e4b35e4d7ca1ddbff6a1767642",
      "c01134b312fd4f56b4845a15093ef9d0",
      "b5c6ce38f8124fc5ac77873acfe80a6d",
      "523a786c5b924dc4aca3ef373f3135bc",
      "a236e4ea129741e181c10785e6419d21",
      "e1ea75b3208c40fa80799e923b0f2f82",
      "5a56383155164bb3b0db8f787a938100",
      "c5411ca2d81448c8b344dd21394b1dc6",
      "c718e604e5484535b11ff256718b3bc4",
      "84ab8a8a584448b798edf63206180019",
      "2b08a5551cdb4120886a3602e5acc39b",
      "e416fd833419408c872d201019c191c1",
      "c90c8d4e4e6547d192de1a4e9692939b",
      "4c2d9c0d5a454125b8566d40473c7e74"
     ]
    },
    "id": "x4x-kWonXjEC",
    "outputId": "c42cdcaf-d57c-4f11-d82c-f165c3cd12d2"
   },
   "outputs": [],
   "source": [
    "Bert_tokenizer = BertTokenizer.from_pretrained('bert-base-uncased')\n",
    "Bert_model = BertModel.from_pretrained('bert-base-uncased').to(device)\n",
    "\n",
    "# if torch.cuda.is_available():\n",
    "#   print(\"cuda available!\")\n",
    "#   Bert_model = move_model_to_cuda(Bert_model)"
   ]
  },
  {
   "cell_type": "markdown",
   "metadata": {
    "id": "cfY-HdUH-hK2"
   },
   "source": [
    "# Data"
   ]
  },
  {
   "cell_type": "markdown",
   "metadata": {
    "id": "0bNej6cYX31I"
   },
   "source": [
    "## Load"
   ]
  },
  {
   "cell_type": "code",
   "execution_count": 97,
   "metadata": {
    "id": "OZ967EJZtZU9"
   },
   "outputs": [],
   "source": [
    "DS = \"iNaturalist\""
   ]
  },
  {
   "cell_type": "code",
   "execution_count": 123,
   "metadata": {},
   "outputs": [],
   "source": [
    "testset = torchvision.datasets.INaturalist(root='./data', target_type = 'class', version = '2021_valid',\n",
    "                                       download=False)\n",
    "# testloader = torch.utils.data.DataLoader(testset, batch_size=4,\n",
    "#                                          shuffle=False, num_workers=2)"
   ]
  },
  {
   "cell_type": "code",
   "execution_count": 135,
   "metadata": {},
   "outputs": [],
   "source": [
    "from collections import Counter\n",
    "\n",
    "# Count the number of instances per class in the testset\n",
    "label_counts = Counter([label for _, label in testset])\n",
    "\n",
    "# Filter classes with at least 250 instances\n",
    "sufficient_labels = [label for label, count in label_counts.items() if count >= 250]\n",
    "\n",
    "# Collect indices for each sufficient class\n",
    "label_indices = {label: [] for label in sufficient_labels}\n",
    "for idx, (_, label) in enumerate(testset):\n",
    "    if label in sufficient_labels:\n",
    "        label_indices[label].append(idx)\n",
    "\n",
    "# Sample indices to create a balanced dataset\n",
    "sampled_indices = []\n",
    "instances_per_class = 3000 // len(sufficient_labels)\n",
    "for label in sufficient_labels:\n",
    "    sampled_indices.extend(np.random.choice(label_indices[label], instances_per_class, replace=False))\n",
    "\n",
    "# Save the sampled indices\n",
    "with open(f\"{folder_path}/balanced_dataset_indices.pkl\", \"wb\") as f:\n",
    "    pickle.dump(sampled_indices, f)"
   ]
  },
  {
   "cell_type": "code",
   "execution_count": 137,
   "metadata": {},
   "outputs": [
    {
     "data": {
      "text/plain": [
       "2992"
      ]
     },
     "execution_count": 137,
     "metadata": {},
     "output_type": "execute_result"
    }
   ],
   "source": [
    "len(sampled_indices)"
   ]
  },
  {
   "cell_type": "code",
   "execution_count": 148,
   "metadata": {},
   "outputs": [],
   "source": [
    "# Shuffle the sampled dataset\n",
    "sampled_dataset = torch.utils.data.Subset(testset, np.random.permutation(sampled_indices))"
   ]
  },
  {
   "cell_type": "code",
   "execution_count": 152,
   "metadata": {},
   "outputs": [
    {
     "data": {
      "text/plain": [
       "2992"
      ]
     },
     "execution_count": 152,
     "metadata": {},
     "output_type": "execute_result"
    }
   ],
   "source": [
    "len(sampled_dataset)"
   ]
  },
  {
   "cell_type": "code",
   "execution_count": 153,
   "metadata": {},
   "outputs": [],
   "source": [
    "# original_gt_labels = set()\n",
    "original_gt_labels_list = []\n",
    "\n",
    "for test_ints in sampled_dataset:\n",
    "    original_gt_labels_list.append(test_ints[1])\n",
    "\n",
    "original_gt_labels = set(original_gt_labels_list)"
   ]
  },
  {
   "cell_type": "code",
   "execution_count": 164,
   "metadata": {},
   "outputs": [],
   "source": [
    "original_gt_labels_unique_list = list(original_gt_labels)"
   ]
  },
  {
   "cell_type": "code",
   "execution_count": 180,
   "metadata": {},
   "outputs": [],
   "source": [
    "original_classes = []\n",
    "for gt_label in original_gt_labels_unique_list:\n",
    "    class_name = testset.category_name(\"class\", gt_label)\n",
    "    original_classes.append(class_name.lower())"
   ]
  },
  {
   "cell_type": "code",
   "execution_count": 181,
   "metadata": {
    "colab": {
     "base_uri": "https://localhost:8080/"
    },
    "id": "hlvEPKTqHDtG",
    "outputId": "0c26fceb-1b8c-4a34-d927-b4574c430c16"
   },
   "outputs": [
    {
     "data": {
      "text/plain": [
       "(['agaricomycetes',\n",
       "  'arachnida',\n",
       "  'bryopsida',\n",
       "  'insecta',\n",
       "  'malacostraca',\n",
       "  'actinopterygii',\n",
       "  'amphibia',\n",
       "  'aves'],\n",
       " ['mammalia',\n",
       "  'reptilia',\n",
       "  'magnoliopsida',\n",
       "  'pinopsida',\n",
       "  'polypodiopsida',\n",
       "  'liliopsida',\n",
       "  'bivalvia',\n",
       "  'gastropoda',\n",
       "  'lecanoromycetes'],\n",
       " (33, 2, 37, 6, 7, 9, 10, 12),\n",
       " (14, 15, 48, 49, 50, 46, 23, 25, 29))"
      ]
     },
     "execution_count": 181,
     "metadata": {},
     "output_type": "execute_result"
    }
   ],
   "source": [
    "nr_of_labels = len(original_classes)\n",
    "known_labels, unknown_labels = tuple(original_gt_labels_unique_list[:int(nr_of_labels/2)]), tuple(original_gt_labels_unique_list[int(nr_of_labels/2):])\n",
    "known_classes = original_classes[:int(nr_of_labels/2)]\n",
    "unknown_classes = original_classes[int(nr_of_labels/2):]\n",
    "\n",
    "known_classes, unknown_classes, known_labels, unknown_labels"
   ]
  },
  {
   "cell_type": "code",
   "execution_count": null,
   "metadata": {
    "colab": {
     "base_uri": "https://localhost:8080/",
     "height": 210
    },
    "id": "Nez2wB0v-9JW",
    "outputId": "280dddef-9c92-41ec-8b8e-0535a3b2e6ff"
   },
   "outputs": [],
   "source": [
    "# functions to show an image\n",
    "\n",
    "def imshow(img):\n",
    "    # img = img / 2 + 0.5     # unnormalize\n",
    "    npimg = img.numpy()\n",
    "    plt.imshow(np.transpose(npimg, (1, 2, 0)))\n",
    "\n",
    "\n",
    "# get some random training images\n",
    "dataiter = iter(testloader)\n",
    "images, labels = next(dataiter)\n",
    "\n",
    "# show images\n",
    "imshow(torchvision.utils.make_grid(images))\n",
    "# print labels\n",
    "print(' '.join('%5s' % original_classes[labels[j]] for j in range(4)))"
   ]
  },
  {
   "cell_type": "code",
   "execution_count": 51,
   "metadata": {},
   "outputs": [],
   "source": [
    "im = testset[0][0].copy()\n",
    "image = ToTensor()(im).unsqueeze(0) # unsqueeze to add artificial first dimension\n",
    "image = image.squeeze(0).permute(1, 2, 0) # transform from 1,3,500,375 to 500,375,3\n",
    "\n",
    "# 1, 3, 500, 375\n",
    "# 500, 375, 3"
   ]
  },
  {
   "cell_type": "code",
   "execution_count": 15,
   "metadata": {
    "colab": {
     "base_uri": "https://localhost:8080/",
     "height": 465
    },
    "id": "QBlKQM56_LxC",
    "outputId": "0b278488-3751-46fb-ccd2-aadc39841613"
   },
   "outputs": [
    {
     "name": "stdout",
     "output_type": "stream",
     "text": [
      "6\n"
     ]
    },
    {
     "data": {
      "text/plain": [
       "<matplotlib.image.AxesImage at 0x1aa270ea560>"
      ]
     },
     "execution_count": 15,
     "metadata": {},
     "output_type": "execute_result"
    },
    {
     "data": {
      "image/png": "[encoded data removed]",
      "text/plain": [
       "<Figure size 640x480 with 1 Axes>"
      ]
     },
     "metadata": {},
     "output_type": "display_data"
    }
   ],
   "source": [
    "im, label = testset[7]\n",
    "im = im / 2 + 0.5\n",
    "# torch_tensor.detach().cpu().numpy()\n",
    "im = im.detach().cpu().numpy()\n",
    "im = rescale_image(im).astype(int)\n",
    "im = np.transpose(im, (1, 2, 0))\n",
    "print(label)\n",
    "plt.imshow(im)"
   ]
  },
  {
   "cell_type": "markdown",
   "metadata": {
    "id": "JcUXf6EWX5Yw"
   },
   "source": [
    "## Embedding"
   ]
  },
  {
   "cell_type": "code",
   "execution_count": 168,
   "metadata": {
    "id": "xArHPpQ3YtTV"
   },
   "outputs": [],
   "source": [
    "def get_text_embeddings(text):\n",
    "  inputs = Bert_tokenizer(text, return_tensors='pt')\n",
    "  inputs = {k: v.to(device) if isinstance(v, torch.Tensor) else v for k, v in inputs.items()}\n",
    "  with torch.no_grad():\n",
    "    outputs = Bert_model(**inputs)\n",
    "  last_hidden_states = outputs.last_hidden_state\n",
    "  return last_hidden_states[0][1]\n",
    "\n",
    "def cosine_similarity(A, B):\n",
    "  return np.dot(A,B)/(np.linalg.norm(A)*np.linalg.norm(B))"
   ]
  },
  {
   "cell_type": "code",
   "execution_count": 169,
   "metadata": {
    "colab": {
     "base_uri": "https://localhost:8080/"
    },
    "id": "nAgAK5sLYSiU",
    "outputId": "4302559b-d6a9-42b7-e23d-efb799c04b77"
   },
   "outputs": [
    {
     "data": {
      "text/plain": [
       "(8, 768)"
      ]
     },
     "execution_count": 169,
     "metadata": {},
     "output_type": "execute_result"
    }
   ],
   "source": [
    "known_classes_embed = list()\n",
    "\n",
    "for c in known_classes:\n",
    "  known_classes_embed.append(get_text_embeddings(c).cpu())\n",
    "known_classes_embed = np.array(known_classes_embed)\n",
    "known_classes_embed.shape"
   ]
  },
  {
   "cell_type": "code",
   "execution_count": 18,
   "metadata": {
    "colab": {
     "base_uri": "https://localhost:8080/"
    },
    "id": "LdgRNTsvZkJC",
    "outputId": "fce3f855-6039-4973-f45b-2dd378473d45"
   },
   "outputs": [
    {
     "name": "stdout",
     "output_type": "stream",
     "text": [
      "similarity to plane is: 0.7635353803634644\n",
      "similarity to car is: 0.5777745246887207\n",
      "similarity to bird is: 0.8145835995674133\n",
      "similarity to cat is: 0.7883412837982178\n",
      "similarity to deer is: 0.6125531792640686\n"
     ]
    }
   ],
   "source": [
    "t = \"lizard\"\n",
    "t_embed = get_text_embeddings(t).cpu()\n",
    "\n",
    "for embed, c in zip(known_classes_embed,known_classes):\n",
    "  print(f\"similarity to {c} is: {cosine_similarity(embed, t_embed)}\")"
   ]
  },
  {
   "cell_type": "code",
   "execution_count": 52,
   "metadata": {},
   "outputs": [
    {
     "data": {
      "text/plain": [
       "np.float32(0.8145836)"
      ]
     },
     "execution_count": 52,
     "metadata": {},
     "output_type": "execute_result"
    }
   ],
   "source": [
    "t1 = get_text_embeddings('bird').cpu()\n",
    "t2 = get_text_embeddings('lizard').cpu()\n",
    "cosine_similarity(t1,t2)"
   ]
  },
  {
   "cell_type": "markdown",
   "metadata": {
    "id": "dADwQuQq-iIi"
   },
   "source": [
    "# Experiments"
   ]
  },
  {
   "cell_type": "code",
   "execution_count": 170,
   "metadata": {
    "id": "9JZLLRNyAHsO"
   },
   "outputs": [],
   "source": [
    "\n",
    "def get_a_category(prompt, image):\n",
    "  language_model = create_Gen_Model()\n",
    "  im = Image.fromarray(np.uint8(image)).convert('RGB')\n",
    "  # input_text = st.text_input(prompt, key=\"input\")\n",
    "  # input_image = st.image(im, caption=\"Uploaded Image\", use_column_width=True)\n",
    "  category = language_model.generate_content([prompt, im]).text.strip('\\n').strip('.').strip().lower()\n",
    "  return category"
   ]
  },
  {
   "cell_type": "markdown",
   "metadata": {
    "id": "9ph-boj7VbCV"
   },
   "source": [
    "## Benchmark"
   ]
  },
  {
   "cell_type": "code",
   "execution_count": 171,
   "metadata": {
    "id": "N6IJcD182cyF"
   },
   "outputs": [],
   "source": [
    "exp_type = \"benchmark\""
   ]
  },
  {
   "cell_type": "markdown",
   "metadata": {
    "id": "4FVOeUiEn9sX"
   },
   "source": [
    "### One run"
   ]
  },
  {
   "cell_type": "code",
   "execution_count": 172,
   "metadata": {
    "colab": {
     "base_uri": "https://localhost:8080/",
     "height": 1000
    },
    "id": "7n-OdHpyVbCW",
    "outputId": "3dd5b5b7-99bd-49d8-82ab-69c39a26d112"
   },
   "outputs": [
    {
     "name": "stderr",
     "output_type": "stream",
     "text": [
      "100%|██████████| 10/10 [00:09<00:00,  1.06it/s]\n"
     ]
    }
   ],
   "source": [
    "prompt_template = \"what is the object in the image? answer with one word\"\n",
    "\n",
    "classes = list(known_classes)\n",
    "novel_label_idx = 10\n",
    "\n",
    "predicted_classes = list()\n",
    "novel_classes_labels = dict()\n",
    "\n",
    "for idx in tqdm(range(10)):\n",
    "  im, label = sampled_dataset[idx]\n",
    "  im = np.array(im)\n",
    "  prompt = prompt_template\n",
    "\n",
    "  # im = im / 2 + 0.5\n",
    "  # im = im.detach().cpu().numpy()\n",
    "  # im = rescale_image(im).astype(int)\n",
    "  # im = np.transpose(im, (1, 2, 0))\n",
    "\n",
    "  pred_class = get_a_category(prompt, im)\n",
    "  predicted_classes.append(pred_class)\n",
    "\n",
    "  if not(pred_class in classes):\n",
    "    classes.append(pred_class)\n",
    "    novel_classes_labels[pred_class] = novel_label_idx\n",
    "    novel_label_idx += 1"
   ]
  },
  {
   "cell_type": "code",
   "execution_count": 173,
   "metadata": {
    "colab": {
     "base_uri": "https://localhost:8080/"
    },
    "id": "ejy_HxyrVbCW",
    "outputId": "c0c6bd99-7310-4b8c-a556-cb75f79694fc"
   },
   "outputs": [
    {
     "data": {
      "text/plain": [
       "array(['crayfish', 'fungus', 'ladybug', 'moss', 'moth', 'nudibranch',\n",
       "       'pine', 'shell', 'snake', 'squirrel'], dtype='<U10')"
      ]
     },
     "execution_count": 173,
     "metadata": {},
     "output_type": "execute_result"
    }
   ],
   "source": [
    "np.unique(predicted_classes)"
   ]
  },
  {
   "cell_type": "code",
   "execution_count": null,
   "metadata": {
    "id": "cyt8pnwYVbCY"
   },
   "outputs": [],
   "source": [
    "final_novel_classes_labels = dict()\n",
    "\n",
    "for k, v in novel_classes_labels.items():\n",
    "  final_novel_classes_labels[k] = v\n",
    "  if k in unknown_classes:\n",
    "    final_novel_classes_labels[k] = unknown_labels[unknown_classes.index(k)]\n",
    "\n",
    "novel_classes_labels = final_novel_classes_labels.copy()"
   ]
  },
  {
   "cell_type": "code",
   "execution_count": null,
   "metadata": {
    "colab": {
     "base_uri": "https://localhost:8080/"
    },
    "id": "Ybahh_P4VbCY",
    "outputId": "6df146cd-e921-42c8-8c9b-005c549107b4"
   },
   "outputs": [
    {
     "data": {
      "text/plain": [
       "{'boat': 10,\n",
       " 'dinosaur': 11,\n",
       " 'frog': 6,\n",
       " 'kitten': 13,\n",
       " 'jeep': 14,\n",
       " 'aircraft': 15,\n",
       " 'truck': 9,\n",
       " 'dog': 5,\n",
       " 'horse': 7,\n",
       " 'alligator': 19,\n",
       " 'puppy': 20,\n",
       " 'dhow': 21,\n",
       " 'arrowhead': 22,\n",
       " 'dolphin': 23,\n",
       " 'firetruck': 24,\n",
       " 'turkey': 25,\n",
       " 'elk': 26,\n",
       " 'airplane': 27,\n",
       " 'emu': 28,\n",
       " 'automobile': 29,\n",
       " 'reindeer': 30,\n",
       " 'koala': 31,\n",
       " 'dumptruck': 32,\n",
       " 'tugboat': 33,\n",
       " 'ship': 8,\n",
       " 'sailboat': 35,\n",
       " 'face': 36,\n",
       " 'chicken': 37,\n",
       " 'chair': 38,\n",
       " 'statue': 39,\n",
       " 'donkey': 40,\n",
       " 'toad': 41,\n",
       " 'yacht': 42,\n",
       " 'train': 43,\n",
       " 'ferry': 44,\n",
       " 'convertible': 45,\n",
       " 'ostrich': 46,\n",
       " 'skull': 47,\n",
       " 'moose': 48,\n",
       " 'scorpion': 49}"
      ]
     },
     "execution_count": 30,
     "metadata": {},
     "output_type": "execute_result"
    }
   ],
   "source": [
    "novel_classes_labels"
   ]
  },
  {
   "cell_type": "code",
   "execution_count": null,
   "metadata": {
    "id": "7RJP0uotVbCY"
   },
   "outputs": [],
   "source": [
    "# Known classes accuracy\n",
    "\n",
    "pred_labels = list()\n",
    "\n",
    "for pred_class in predicted_classes:\n",
    "  if pred_class in known_classes:\n",
    "    pred_labels.append(known_labels[known_classes.index(pred_class)])\n",
    "  else:\n",
    "    pred_labels.append(novel_classes_labels[pred_class])"
   ]
  },
  {
   "cell_type": "code",
   "execution_count": null,
   "metadata": {
    "colab": {
     "base_uri": "https://localhost:8080/"
    },
    "id": "X5CXcsphVbCY",
    "outputId": "bdeab62b-55f1-4e3d-e123-c8fe8875c2c2"
   },
   "outputs": [
    {
     "data": {
      "text/plain": [
       "100"
      ]
     },
     "execution_count": 32,
     "metadata": {},
     "output_type": "execute_result"
    }
   ],
   "source": [
    "len(pred_labels)"
   ]
  },
  {
   "cell_type": "code",
   "execution_count": null,
   "metadata": {
    "colab": {
     "base_uri": "https://localhost:8080/"
    },
    "id": "MtH9hoUHVbCZ",
    "outputId": "aa7aad2a-0a80-4c45-e1e0-3e0514ff3ed7"
   },
   "outputs": [
    {
     "name": "stderr",
     "output_type": "stream",
     "text": [
      "100%|██████████| 100/100 [00:00<00:00, 1715.96it/s]\n"
     ]
    },
    {
     "data": {
      "text/plain": [
       "100"
      ]
     },
     "execution_count": 33,
     "metadata": {},
     "output_type": "execute_result"
    }
   ],
   "source": [
    "gt_labels = [testset[idx][1] for idx in tqdm(range(100))]\n",
    "len(gt_labels)"
   ]
  },
  {
   "cell_type": "code",
   "execution_count": null,
   "metadata": {
    "id": "6Tub5EfOVbCZ"
   },
   "outputs": [],
   "source": [
    "pred_labels, gt_labels = np.array(pred_labels), np.array(gt_labels)"
   ]
  },
  {
   "cell_type": "code",
   "execution_count": null,
   "metadata": {
    "colab": {
     "base_uri": "https://localhost:8080/"
    },
    "id": "OQMSinKCVbCZ",
    "outputId": "c42a741e-dba0-48f4-89c8-47e271cb920b"
   },
   "outputs": [
    {
     "data": {
      "text/plain": [
       "0.4799762737262737"
      ]
     },
     "execution_count": 35,
     "metadata": {},
     "output_type": "execute_result"
    }
   ],
   "source": [
    "overall_acc = balanced_accuracy_score(gt_labels, pred_labels)\n",
    "overall_acc"
   ]
  },
  {
   "cell_type": "code",
   "execution_count": null,
   "metadata": {
    "colab": {
     "base_uri": "https://localhost:8080/"
    },
    "id": "_9U1sp_KVbCZ",
    "outputId": "10f54aea-a7e2-456d-a160-ea2bef0323e5"
   },
   "outputs": [
    {
     "data": {
      "text/plain": [
       "0.32857142857142857"
      ]
     },
     "execution_count": 36,
     "metadata": {},
     "output_type": "execute_result"
    }
   ],
   "source": [
    "desiered_items = [l in known_labels for l in gt_labels]\n",
    "known_acc = balanced_accuracy_score(gt_labels[desiered_items], pred_labels[desiered_items])\n",
    "known_acc"
   ]
  },
  {
   "cell_type": "code",
   "execution_count": null,
   "metadata": {
    "colab": {
     "base_uri": "https://localhost:8080/"
    },
    "id": "zYrndjQlVbCa",
    "outputId": "83975dfb-c345-452d-f329-1b08f6e0757d"
   },
   "outputs": [
    {
     "data": {
      "text/plain": [
       "0.6313811188811189"
      ]
     },
     "execution_count": 37,
     "metadata": {},
     "output_type": "execute_result"
    }
   ],
   "source": [
    "desiered_items = [not(l in known_labels) for l in gt_labels]\n",
    "unknown_acc = balanced_accuracy_score(gt_labels[desiered_items], pred_labels[desiered_items])\n",
    "unknown_acc"
   ]
  },
  {
   "cell_type": "markdown",
   "metadata": {
    "id": "ptIJPR4foEDx"
   },
   "source": [
    "### loop"
   ]
  },
  {
   "cell_type": "code",
   "execution_count": 88,
   "metadata": {},
   "outputs": [
    {
     "data": {
      "text/plain": [
       "(<PIL.JpegImagePlugin.JpegImageFile image mode=RGB size=281x500>, 0)"
      ]
     },
     "execution_count": 88,
     "metadata": {},
     "output_type": "execute_result"
    }
   ],
   "source": [
    "testset[3]"
   ]
  },
  {
   "cell_type": "code",
   "execution_count": null,
   "metadata": {
    "colab": {
     "base_uri": "https://localhost:8080/",
     "height": 1000
    },
    "id": "d5lGio-doFOo",
    "outputId": "238224f4-252c-4f1d-864d-971c1e6d669c"
   },
   "outputs": [],
   "source": [
    "batches = (range(1000), range(1000, 2000), range(2000, len(sampled_dataset)))\n",
    "\n",
    "# batches_results = list()\n",
    "\n",
    "for batch in batches[1:]:\n",
    "# for batch in [range(10)]:\n",
    "\n",
    "  batch_dict = dict()\n",
    "\n",
    "  gt_labels = np.array([sampled_dataset[idx][1] for idx in batch])\n",
    "\n",
    "  prompt_template = \"What biological class does the object in the image belong to? Answer with one word, the latin term.\"\n",
    "\n",
    "  classes = list(known_classes)\n",
    "  novel_label_idx = nr_of_labels\n",
    "\n",
    "  predicted_classes = list()\n",
    "  novel_classes_labels = dict()\n",
    "\n",
    "  for idx in tqdm(batch):\n",
    "    im, label = sampled_dataset[idx]\n",
    "    prompt = prompt_template\n",
    "\n",
    "    # im = im / 2 + 0.5\n",
    "    # im = im.detach().cpu().numpy()\n",
    "    # im = rescale_image(im).astype(int)\n",
    "    # im = np.transpose(im, (1, 2, 0))\n",
    "\n",
    "    im = np.array(im)\n",
    "\n",
    "    pred_class = get_a_category(prompt, im)\n",
    "    predicted_classes.append(pred_class)\n",
    "\n",
    "    if not(pred_class in classes):\n",
    "      classes.append(pred_class)\n",
    "      novel_classes_labels[pred_class] = novel_label_idx\n",
    "      novel_label_idx += 1\n",
    "\n",
    "  # use correct unknown labels\n",
    "  final_novel_classes_labels = dict()\n",
    "  for k, v in novel_classes_labels.items():\n",
    "    final_novel_classes_labels[k] = v\n",
    "    if k in unknown_classes:\n",
    "      final_novel_classes_labels[k] = unknown_labels[unknown_classes.index(k)]\n",
    "  novel_classes_labels = final_novel_classes_labels.copy()\n",
    "\n",
    "  # predicted labels list\n",
    "  pred_labels = list()\n",
    "  for pred_class in predicted_classes:\n",
    "    if pred_class in known_classes:\n",
    "      pred_labels.append(known_labels[known_classes.index(pred_class)])\n",
    "    else:\n",
    "      pred_labels.append(novel_classes_labels[pred_class])\n",
    "  pred_labels = np.array(pred_labels)\n",
    "\n",
    "  # Accuracy\n",
    "  # overall\n",
    "  overall_acc = balanced_accuracy_score(gt_labels, pred_labels)\n",
    "  # known\n",
    "  desiered_items = [l in known_labels for l in gt_labels]\n",
    "  known_acc = balanced_accuracy_score(gt_labels[desiered_items], pred_labels[desiered_items])\n",
    "  # unknown\n",
    "  desiered_items = [not(l in known_labels) for l in gt_labels]\n",
    "  unknown_acc = balanced_accuracy_score(gt_labels[desiered_items], pred_labels[desiered_items])\n",
    "\n",
    "  batch_dict[\"gt_labels\"] = gt_labels.copy()\n",
    "  batch_dict[\"predicted_classes\"] = predicted_classes.copy()\n",
    "  batch_dict[\"novel_classes_labels\"] = novel_classes_labels.copy()\n",
    "  batch_dict[\"pred_labels\"] = pred_labels.copy()\n",
    "  batch_dict[\"accuracy\"] = {\"overall\":overall_acc,\n",
    "                            \"known\":known_acc,\n",
    "                            \"unknown\":unknown_acc}\n",
    "\n",
    "  batches_results.append(batch_dict.copy())"
   ]
  },
  {
   "cell_type": "markdown",
   "metadata": {
    "id": "B3LR5pkD2VsH"
   },
   "source": [
    "#### Average accuracy"
   ]
  },
  {
   "cell_type": "code",
   "execution_count": 188,
   "metadata": {
    "id": "8hfWjIuY2Yf-"
   },
   "outputs": [
    {
     "name": "stdout",
     "output_type": "stream",
     "text": [
      "benchmark average accuracy:\n",
      "overall\t: 0.6747888673099379\n",
      "known\t: 0.729775087172662\n",
      "unknown\t: 0.6259122274319608\n"
     ]
    }
   ],
   "source": [
    "overall, known, unknown = 0, 0, 0\n",
    "\n",
    "for res in batches_results:\n",
    "  overall += res[\"accuracy\"][\"overall\"]\n",
    "  known += res[\"accuracy\"][\"known\"]\n",
    "  unknown += res[\"accuracy\"][\"unknown\"]\n",
    "\n",
    "num_batches = len(batches_results)\n",
    "\n",
    "print(f\"{exp_type} average accuracy:\")\n",
    "print(f\"overall\\t: {overall/num_batches}\")\n",
    "print(f\"known\\t: {known/num_batches}\")\n",
    "print(f\"unknown\\t: {unknown/num_batches}\")"
   ]
  },
  {
   "cell_type": "markdown",
   "metadata": {
    "id": "R0OK6pwXs8Wq"
   },
   "source": [
    "#### save to drive"
   ]
  },
  {
   "cell_type": "code",
   "execution_count": 28,
   "metadata": {},
   "outputs": [],
   "source": [
    "import pickle"
   ]
  },
  {
   "cell_type": "code",
   "execution_count": null,
   "metadata": {},
   "outputs": [],
   "source": [
    "with open(f\"{folder_path}/{DS}_{exp_type}_batches_results.pkl\", \"wb\") as f:\n",
    "    pickle.dump(batches_results, f)"
   ]
  },
  {
   "cell_type": "code",
   "execution_count": null,
   "metadata": {
    "id": "07-mfjI6s6-1"
   },
   "outputs": [],
   "source": [
    "exp_type = \"benchmark\"\n",
    "\n",
    "full_dict = {exp_type: np.array(batches_results)}\n",
    "np.savez_compressed(f\"{folder_path}/{DS}/{DS}_{exp_type}.npz\", **full_dict)"
   ]
  },
  {
   "cell_type": "markdown",
   "metadata": {
    "id": "5d20LisUHyWp"
   },
   "source": [
    "## Solution 1"
   ]
  },
  {
   "cell_type": "code",
   "execution_count": 32,
   "metadata": {
    "id": "wc6llESo3bXy"
   },
   "outputs": [],
   "source": [
    "exp_type = \"solution1\""
   ]
  },
  {
   "cell_type": "markdown",
   "metadata": {
    "id": "CwRuhDI-3XrY"
   },
   "source": [
    "### One run"
   ]
  },
  {
   "cell_type": "code",
   "execution_count": null,
   "metadata": {
    "colab": {
     "base_uri": "https://localhost:8080/"
    },
    "id": "22vMgdbPC-vi",
    "outputId": "86042740-3ccd-4d12-93a5-5100e684766e"
   },
   "outputs": [],
   "source": [
    "prompt_template = \"what is the object in the image? answer with one word\"\n",
    "\n",
    "thr = 0.9\n",
    "\n",
    "classes = list(known_classes)\n",
    "novel_label_idx = 10\n",
    "\n",
    "predicted_classes = list()\n",
    "novel_classes_labels = dict()\n",
    "predicted_classes_similarity = list()\n",
    "\n",
    "for idx in tqdm(range(100)):\n",
    "  im, label = testset[idx]\n",
    "  prompt = prompt_template\n",
    "\n",
    "  im = im / 2 + 0.5\n",
    "  im = im.detach().cpu().numpy()\n",
    "  im = rescale_image(im).astype(int)\n",
    "  im = np.transpose(im, (1, 2, 0))\n",
    "\n",
    "  pred_class = get_a_category(prompt, im)\n",
    "  pred_embed = get_text_embeddings(pred_class)\n",
    "  similarities = [cosine_similarity(embed, pred_embed) for embed in known_classes_embed]\n",
    "  predicted_classes_similarity.append(similarities)\n",
    "  max_sim = max(similarities)\n",
    "  if max_sim >= thr: pred_class=known_classes[similarities.index(max_sim)]\n",
    "\n",
    "  predicted_classes.append(pred_class)\n",
    "\n",
    "  if not(pred_class in classes):\n",
    "    classes.append(pred_class)\n",
    "    novel_classes_labels[pred_class] = novel_label_idx\n",
    "    novel_label_idx += 1"
   ]
  },
  {
   "cell_type": "code",
   "execution_count": null,
   "metadata": {
    "colab": {
     "base_uri": "https://localhost:8080/"
    },
    "id": "6pULYkQ2L1Ea",
    "outputId": "d2bbe2b4-183d-4a5d-85b6-90a183c0ac5e"
   },
   "outputs": [
    {
     "data": {
      "text/plain": [
       "array(['alligator', 'asteroid', 'automobile', 'bird', 'boat', 'car',\n",
       "       'cat', 'chair', 'chicken.', 'convertible', 'deer', 'dhow',\n",
       "       'dinosaur', 'dog', 'dog.', 'dolphin', 'donkey', 'dumptruck', 'elk',\n",
       "       'emu', 'face.', 'ferry', 'firetruck', 'frog', 'horse', 'kitten',\n",
       "       'landrover', 'moose', 'ostrich', 'plane', 'puppy', 'reindeer',\n",
       "       'sailboat', 'scorpion.', 'sculpture', 'ship', 'toad', 'train',\n",
       "       'truck', 'tugboat', 'turkey', 'whale', 'yacht'], dtype='<U11')"
      ]
     },
     "execution_count": 86,
     "metadata": {},
     "output_type": "execute_result"
    }
   ],
   "source": [
    "np.unique(predicted_classes)"
   ]
  },
  {
   "cell_type": "code",
   "execution_count": null,
   "metadata": {
    "colab": {
     "base_uri": "https://localhost:8080/"
    },
    "id": "HpsLATYVL4fF",
    "outputId": "1fdbb45a-ad2c-4a9d-8846-52af7f40b31b"
   },
   "outputs": [
    {
     "data": {
      "text/plain": [
       "(48,\n",
       " ['plane',\n",
       "  'car',\n",
       "  'bird',\n",
       "  'cat',\n",
       "  'deer',\n",
       "  'boat',\n",
       "  'dinosaur',\n",
       "  'frog',\n",
       "  'kitten',\n",
       "  'landrover',\n",
       "  'truck',\n",
       "  'dog',\n",
       "  'horse',\n",
       "  'alligator',\n",
       "  'puppy',\n",
       "  'dhow',\n",
       "  'dolphin',\n",
       "  'firetruck',\n",
       "  'turkey',\n",
       "  'elk',\n",
       "  'emu',\n",
       "  'automobile',\n",
       "  'reindeer',\n",
       "  'dog.',\n",
       "  'dumptruck',\n",
       "  'tugboat',\n",
       "  'ship',\n",
       "  'sailboat',\n",
       "  'face.',\n",
       "  'chicken.',\n",
       "  'chair',\n",
       "  'sculpture',\n",
       "  'donkey',\n",
       "  'toad',\n",
       "  'yacht',\n",
       "  'train',\n",
       "  'ferry',\n",
       "  'convertible',\n",
       "  'ostrich',\n",
       "  'whale',\n",
       "  'asteroid',\n",
       "  'moose',\n",
       "  'scorpion.'])"
      ]
     },
     "execution_count": 87,
     "metadata": {},
     "output_type": "execute_result"
    }
   ],
   "source": [
    "novel_label_idx, classes"
   ]
  },
  {
   "cell_type": "code",
   "execution_count": null,
   "metadata": {
    "id": "SVHbsuJoMB8q"
   },
   "outputs": [],
   "source": [
    "final_novel_classes_labels = dict()\n",
    "\n",
    "for k, v in novel_classes_labels.items():\n",
    "  final_novel_classes_labels[k] = v\n",
    "  if k in unknown_classes:\n",
    "    final_novel_classes_labels[k] = unknown_labels[unknown_classes.index(k)]\n",
    "\n",
    "novel_classes_labels = final_novel_classes_labels.copy()"
   ]
  },
  {
   "cell_type": "code",
   "execution_count": null,
   "metadata": {
    "colab": {
     "base_uri": "https://localhost:8080/"
    },
    "id": "ayN-XVnANdxy",
    "outputId": "a6b85f90-a3ae-4940-c134-edc16ef3b9c7"
   },
   "outputs": [
    {
     "data": {
      "text/plain": [
       "{'boat': 10,\n",
       " 'dinosaur': 11,\n",
       " 'frog': 6,\n",
       " 'kitten': 13,\n",
       " 'landrover': 14,\n",
       " 'truck': 9,\n",
       " 'dog': 5,\n",
       " 'horse': 7,\n",
       " 'alligator': 18,\n",
       " 'puppy': 19,\n",
       " 'dhow': 20,\n",
       " 'dolphin': 21,\n",
       " 'firetruck': 22,\n",
       " 'turkey': 23,\n",
       " 'elk': 24,\n",
       " 'emu': 25,\n",
       " 'automobile': 26,\n",
       " 'reindeer': 27,\n",
       " 'dog.': 28,\n",
       " 'dumptruck': 29,\n",
       " 'tugboat': 30,\n",
       " 'ship': 8,\n",
       " 'sailboat': 32,\n",
       " 'face.': 33,\n",
       " 'chicken.': 34,\n",
       " 'chair': 35,\n",
       " 'sculpture': 36,\n",
       " 'donkey': 37,\n",
       " 'toad': 38,\n",
       " 'yacht': 39,\n",
       " 'train': 40,\n",
       " 'ferry': 41,\n",
       " 'convertible': 42,\n",
       " 'ostrich': 43,\n",
       " 'whale': 44,\n",
       " 'asteroid': 45,\n",
       " 'moose': 46,\n",
       " 'scorpion.': 47}"
      ]
     },
     "execution_count": 89,
     "metadata": {},
     "output_type": "execute_result"
    }
   ],
   "source": [
    "novel_classes_labels"
   ]
  },
  {
   "cell_type": "code",
   "execution_count": null,
   "metadata": {
    "id": "t626Q1f2OvZ6"
   },
   "outputs": [],
   "source": [
    "# Known classes accuracy\n",
    "\n",
    "pred_labels = list()\n",
    "\n",
    "for pred_class in predicted_classes:\n",
    "  if pred_class in known_classes:\n",
    "    pred_labels.append(known_labels[known_classes.index(pred_class)])\n",
    "  else:\n",
    "    pred_labels.append(novel_classes_labels[pred_class])"
   ]
  },
  {
   "cell_type": "code",
   "execution_count": null,
   "metadata": {
    "colab": {
     "base_uri": "https://localhost:8080/"
    },
    "id": "92WWyHU5SoBT",
    "outputId": "681a6dc5-b1b5-4150-f4ce-437e21ea6702"
   },
   "outputs": [
    {
     "data": {
      "text/plain": [
       "100"
      ]
     },
     "execution_count": 91,
     "metadata": {},
     "output_type": "execute_result"
    }
   ],
   "source": [
    "len(pred_labels)"
   ]
  },
  {
   "cell_type": "code",
   "execution_count": null,
   "metadata": {
    "colab": {
     "base_uri": "https://localhost:8080/"
    },
    "id": "uiqW6KQcTYQi",
    "outputId": "9cd5d87b-fc5b-425c-9219-f16009a9d1b1"
   },
   "outputs": [
    {
     "name": "stderr",
     "output_type": "stream",
     "text": [
      "100%|██████████| 100/100 [00:00<00:00, 2085.03it/s]\n"
     ]
    },
    {
     "data": {
      "text/plain": [
       "100"
      ]
     },
     "execution_count": 92,
     "metadata": {},
     "output_type": "execute_result"
    }
   ],
   "source": [
    "gt_labels = [testset[idx][1] for idx in tqdm(range(100))]\n",
    "len(gt_labels)"
   ]
  },
  {
   "cell_type": "code",
   "execution_count": null,
   "metadata": {
    "id": "BriOChCSUIc6"
   },
   "outputs": [],
   "source": [
    "pred_labels, gt_labels = np.array(pred_labels), np.array(gt_labels)"
   ]
  },
  {
   "cell_type": "code",
   "execution_count": null,
   "metadata": {
    "colab": {
     "base_uri": "https://localhost:8080/"
    },
    "id": "j3jDgdPSTpMc",
    "outputId": "d5dd0582-289c-4db2-aa0b-7379e9a9b3fe"
   },
   "outputs": [
    {
     "data": {
      "text/plain": [
       "0.5612262737262738"
      ]
     },
     "execution_count": 94,
     "metadata": {},
     "output_type": "execute_result"
    }
   ],
   "source": [
    "from sklearn.metrics import balanced_accuracy_score\n",
    "\n",
    "overall_acc = balanced_accuracy_score(gt_labels, pred_labels)\n",
    "overall_acc"
   ]
  },
  {
   "cell_type": "code",
   "execution_count": null,
   "metadata": {
    "colab": {
     "base_uri": "https://localhost:8080/"
    },
    "id": "OE4-bNLGT6ja",
    "outputId": "9080a368-695b-4467-e7d0-1b50638331ea"
   },
   "outputs": [
    {
     "data": {
      "text/plain": [
       "0.5285714285714286"
      ]
     },
     "execution_count": 95,
     "metadata": {},
     "output_type": "execute_result"
    }
   ],
   "source": [
    "desiered_items = [l in known_labels for l in gt_labels]\n",
    "known_acc = balanced_accuracy_score(gt_labels[desiered_items], pred_labels[desiered_items])\n",
    "known_acc"
   ]
  },
  {
   "cell_type": "code",
   "execution_count": null,
   "metadata": {
    "colab": {
     "base_uri": "https://localhost:8080/"
    },
    "id": "qPPnWMcZT8Uz",
    "outputId": "aeffe566-c29e-467f-ae96-5df3b7957ef5"
   },
   "outputs": [
    {
     "data": {
      "text/plain": [
       "0.5938811188811189"
      ]
     },
     "execution_count": 96,
     "metadata": {},
     "output_type": "execute_result"
    }
   ],
   "source": [
    "desiered_items = [not(l in known_labels) for l in gt_labels]\n",
    "unknown_acc = balanced_accuracy_score(gt_labels[desiered_items], pred_labels[desiered_items])\n",
    "unknown_acc"
   ]
  },
  {
   "cell_type": "markdown",
   "metadata": {
    "id": "J0RpabB33fbM"
   },
   "source": [
    "### loop"
   ]
  },
  {
   "cell_type": "code",
   "execution_count": null,
   "metadata": {
    "id": "EOrZGrD83vFd"
   },
   "outputs": [],
   "source": [
    "batches = (range(1000), range(1000, 2000), range(2000, len(sampled_dataset)))\n",
    "\n",
    "batches_results = list()\n",
    "\n",
    "for batch in batches:\n",
    "\n",
    "  batch_dict = dict()\n",
    "\n",
    "  gt_labels = np.array([sampled_dataset[idx][1] for idx in batch])\n",
    "\n",
    "  prompt_template = \"What biological class does the object in the image belong to? Answer with one word, the latin term.\"\n",
    "\n",
    "  thr = 0.8\n",
    "\n",
    "  classes = list(known_classes)\n",
    "  dynamic_classes_embedded = known_classes_embed.copy()\n",
    "  novel_label_idx = 10\n",
    "\n",
    "  predicted_classes = list()\n",
    "  novel_classes_labels = dict()\n",
    "  predicted_classes_similarity = list()\n",
    "\n",
    "  for idx in tqdm(batch):\n",
    "    im, label = sampled_dataset[idx]\n",
    "    prompt = prompt_template\n",
    "\n",
    "    # im = im / 2 + 0.5\n",
    "    # im = im.detach().cpu().numpy()\n",
    "    # im = rescale_image(im).astype(int)\n",
    "    # im = np.transpose(im, (1, 2, 0))\n",
    "\n",
    "    im = np.array(im)\n",
    "\n",
    "    pred_class = get_a_category(prompt, im)\n",
    "    pred_embed = get_text_embeddings(pred_class)\n",
    "    similarities = [cosine_similarity(embed, pred_embed.cpu()) for embed in dynamic_classes_embedded]\n",
    "    predicted_classes_similarity.append(similarities)\n",
    "    max_sim = max(similarities)\n",
    "    if max_sim >= thr: pred_class=classes[similarities.index(max_sim)]\n",
    "\n",
    "    predicted_classes.append(pred_class)\n",
    "\n",
    "    if not(pred_class in classes):\n",
    "      classes.append(pred_class)\n",
    "      dynamic_classes_embedded = np.vstack([dynamic_classes_embedded, pred_embed.cpu().numpy()])\n",
    "      novel_classes_labels[pred_class] = novel_label_idx\n",
    "      novel_label_idx += 1\n",
    "\n",
    "  # use correct unknown labels\n",
    "  final_novel_classes_labels = dict()\n",
    "  for k, v in novel_classes_labels.items():\n",
    "    final_novel_classes_labels[k] = v\n",
    "    if k in unknown_classes:\n",
    "      final_novel_classes_labels[k] = unknown_labels[unknown_classes.index(k)]\n",
    "  novel_classes_labels = final_novel_classes_labels.copy()\n",
    "\n",
    "  # predicted labels list\n",
    "  pred_labels = list()\n",
    "  for pred_class in predicted_classes:\n",
    "    if pred_class in known_classes:\n",
    "      pred_labels.append(known_labels[known_classes.index(pred_class)])\n",
    "    else:\n",
    "      pred_labels.append(novel_classes_labels[pred_class])\n",
    "  pred_labels = np.array(pred_labels)\n",
    "\n",
    "  # Accuracy\n",
    "  # overall\n",
    "  overall_acc = balanced_accuracy_score(gt_labels, pred_labels)\n",
    "  # known\n",
    "  desiered_items = [l in known_labels for l in gt_labels]\n",
    "  known_acc = balanced_accuracy_score(gt_labels[desiered_items], pred_labels[desiered_items])\n",
    "  # unknown\n",
    "  desiered_items = [not(l in known_labels) for l in gt_labels]\n",
    "  unknown_acc = balanced_accuracy_score(gt_labels[desiered_items], pred_labels[desiered_items])\n",
    "\n",
    "  batch_dict[\"gt_labels\"] = gt_labels.copy()\n",
    "  batch_dict[\"predicted_classes\"] = predicted_classes.copy()\n",
    "  batch_dict[\"novel_classes_labels\"] = novel_classes_labels.copy()\n",
    "  batch_dict[\"pred_labels\"] = pred_labels.copy()\n",
    "  batch_dict[\"similarity\"] = predicted_classes_similarity.copy()\n",
    "  batch_dict[\"accuracy\"] = {\"overall\":overall_acc,\n",
    "                            \"known\":known_acc,\n",
    "                            \"unknown\":unknown_acc}\n",
    "\n",
    "  batches_results.append(batch_dict.copy())"
   ]
  },
  {
   "cell_type": "markdown",
   "metadata": {
    "id": "1G4Xyz5y3lFs"
   },
   "source": [
    "#### Average accuracy"
   ]
  },
  {
   "cell_type": "code",
   "execution_count": 194,
   "metadata": {},
   "outputs": [
    {
     "data": {
      "text/plain": [
       "3"
      ]
     },
     "execution_count": 194,
     "metadata": {},
     "output_type": "execute_result"
    }
   ],
   "source": [
    "len(batches_results)"
   ]
  },
  {
   "cell_type": "code",
   "execution_count": 195,
   "metadata": {
    "id": "VhewVtSa6QUD"
   },
   "outputs": [
    {
     "name": "stdout",
     "output_type": "stream",
     "text": [
      "benchmark average accuracy:\n",
      "overall\t: 0.7297091815165114\n",
      "known\t: 0.823011028861259\n",
      "unknown\t: 0.6467742060989581\n"
     ]
    }
   ],
   "source": [
    "overall, known, unknown = 0, 0, 0\n",
    "\n",
    "for res in batches_results:\n",
    "  overall += res[\"accuracy\"][\"overall\"]\n",
    "  known += res[\"accuracy\"][\"known\"]\n",
    "  unknown += res[\"accuracy\"][\"unknown\"]\n",
    "\n",
    "num_batches = len(batches_results)\n",
    "\n",
    "print(f\"{exp_type} average accuracy:\")\n",
    "print(f\"overall\\t: {overall/num_batches}\")\n",
    "print(f\"known\\t: {known/num_batches}\")\n",
    "print(f\"unknown\\t: {unknown/num_batches}\")"
   ]
  },
  {
   "cell_type": "code",
   "execution_count": 196,
   "metadata": {},
   "outputs": [
    {
     "data": {
      "text/plain": [
       "{'mammalia': 14,\n",
       " 'fungi': 11,\n",
       " 'pinophyta': 12,\n",
       " 'reptilia': 15,\n",
       " 'bivalvia': 23,\n",
       " 'gastropoda': 25,\n",
       " 'plantae': 16,\n",
       " 'magnoliopsida': 48,\n",
       " 'lichenes': 18,\n",
       " 'polypodiopsida': 50,\n",
       " 'mollusca': 20,\n",
       " 'liliopsida': 46,\n",
       " 'magnoliophyta': 22,\n",
       " 'hemiptera': 23,\n",
       " 'echinodermata': 24,\n",
       " 'cnidaria': 25,\n",
       " 'merostomata': 26,\n",
       " 'isopoda': 27,\n",
       " 'lycopodiophyta': 28,\n",
       " 'tracheophyta': 29,\n",
       " 'pisces': 30,\n",
       " 'equisetopsida': 31,\n",
       " 'porifera': 32,\n",
       " 'juncaceae': 33,\n",
       " 'minerallia': 34,\n",
       " 'bryozoa': 35,\n",
       " 'animalia': 36,\n",
       " 'basidiomycota': 37,\n",
       " 'crustacea': 38,\n",
       " 'ascomycota': 39,\n",
       " 'lithophyta': 40}"
      ]
     },
     "execution_count": 196,
     "metadata": {},
     "output_type": "execute_result"
    }
   ],
   "source": [
    "batches_results[0]['novel_classes_labels']"
   ]
  },
  {
   "cell_type": "markdown",
   "metadata": {
    "id": "-LpAr6xi3n60"
   },
   "source": [
    "#### save to drive"
   ]
  },
  {
   "cell_type": "code",
   "execution_count": 197,
   "metadata": {},
   "outputs": [],
   "source": [
    "exp_type = \"solution1\"\n",
    "\n",
    "with open(f\"{folder_path}/{DS}_{exp_type}_batches_results.pkl\", \"wb\") as f:\n",
    "    pickle.dump(batches_results, f)"
   ]
  },
  {
   "cell_type": "code",
   "execution_count": null,
   "metadata": {
    "id": "ueLWfJc96NNr"
   },
   "outputs": [],
   "source": [
    "full_dict = {exp_type: np.array(batches_results)}\n",
    "np.savez_compressed(f\"{folder_path}/{DS}/{DS}_{exp_type}.npz\", **full_dict)"
   ]
  },
  {
   "cell_type": "markdown",
   "metadata": {
    "id": "4vCnRPWSWZTE"
   },
   "source": [
    "## Solution 2"
   ]
  },
  {
   "cell_type": "code",
   "execution_count": 198,
   "metadata": {
    "id": "OzqUzR4c4-lW"
   },
   "outputs": [],
   "source": [
    "exp_type = \"solution2\""
   ]
  },
  {
   "cell_type": "markdown",
   "metadata": {
    "id": "7DF2p38t46Z6"
   },
   "source": [
    "### One run"
   ]
  },
  {
   "cell_type": "code",
   "execution_count": null,
   "metadata": {
    "colab": {
     "base_uri": "https://localhost:8080/",
     "height": 1000
    },
    "id": "hk4_Rf6_WZTF",
    "outputId": "acfa6d7b-4990-4c78-c9b2-d42048b72217"
   },
   "outputs": [],
   "source": [
    "prompt_template = \"is the object in the image {list_of_classes}? if not, what is it? answer with one word\"\n",
    "\n",
    "classes = list(known_classes)\n",
    "novel_label_idx = 10\n",
    "\n",
    "predicted_classes = list()\n",
    "novel_classes_labels = dict()\n",
    "\n",
    "for idx in tqdm(range(100)):\n",
    "  im, label = testset[idx]\n",
    "  list_of_classes = \"\".join([\"a \"+c+\", \" for c in classes[:-1]])\n",
    "  list_of_classes = list_of_classes + f\"or a {classes[-1]}\"\n",
    "  prompt = prompt_template.format(list_of_classes=list_of_classes)\n",
    "\n",
    "  im = im / 2 + 0.5\n",
    "  im = im.detach().cpu().numpy()\n",
    "  im = rescale_image(im).astype(int)\n",
    "  im = np.transpose(im, (1, 2, 0))\n",
    "\n",
    "  pred_class = get_a_category(prompt, im)\n",
    "  predicted_classes.append(pred_class)\n",
    "\n",
    "  if not(pred_class in classes):\n",
    "    classes.append(pred_class)\n",
    "    novel_classes_labels[pred_class] = novel_label_idx\n",
    "    novel_label_idx += 1"
   ]
  },
  {
   "cell_type": "code",
   "execution_count": null,
   "metadata": {
    "colab": {
     "base_uri": "https://localhost:8080/"
    },
    "id": "cDUBmM75WZTF",
    "outputId": "a10eb5d7-e453-4b15-c816-aca15d801415"
   },
   "outputs": [
    {
     "data": {
      "text/plain": [
       "array(['alligator', 'bird', 'boat', 'car', 'cat', 'chair', 'deer', 'dog',\n",
       "       'donkey', 'elk', 'emu', 'firetruck', 'frog', 'horse', 'lizard',\n",
       "       'monkey', 'otter', 'person', 'plane', 'reindeer', 'sailboat',\n",
       "       'ship', 'snake', 'squirrel', 'toad', 'truck', 'tugboat', 'turkey',\n",
       "       'unidentifiable'], dtype='<U14')"
      ]
     },
     "execution_count": 13,
     "metadata": {},
     "output_type": "execute_result"
    }
   ],
   "source": [
    "np.unique(predicted_classes)"
   ]
  },
  {
   "cell_type": "code",
   "execution_count": null,
   "metadata": {
    "colab": {
     "base_uri": "https://localhost:8080/"
    },
    "id": "iKsPnlZ5WZTF",
    "outputId": "f8f7aa4e-0801-45a0-d777-24c8af422ddb"
   },
   "outputs": [
    {
     "data": {
      "text/plain": [
       "(34,\n",
       " ['plane',\n",
       "  'car',\n",
       "  'bird',\n",
       "  'cat',\n",
       "  'deer',\n",
       "  'boat',\n",
       "  'frog',\n",
       "  'truck',\n",
       "  'dog',\n",
       "  'horse',\n",
       "  'alligator',\n",
       "  'lizard',\n",
       "  'otter',\n",
       "  'firetruck',\n",
       "  'turkey',\n",
       "  'elk',\n",
       "  'squirrel',\n",
       "  'emu',\n",
       "  'reindeer',\n",
       "  'snake',\n",
       "  'ship',\n",
       "  'sailboat',\n",
       "  'person',\n",
       "  'chair',\n",
       "  'monkey',\n",
       "  'donkey',\n",
       "  'toad',\n",
       "  'tugboat',\n",
       "  'unidentifiable'])"
      ]
     },
     "execution_count": 14,
     "metadata": {},
     "output_type": "execute_result"
    }
   ],
   "source": [
    "novel_label_idx, classes"
   ]
  },
  {
   "cell_type": "code",
   "execution_count": null,
   "metadata": {
    "id": "GN3qKrZkWZTF"
   },
   "outputs": [],
   "source": [
    "final_novel_classes_labels = dict()\n",
    "\n",
    "for k, v in novel_classes_labels.items():\n",
    "  final_novel_classes_labels[k] = v\n",
    "  if k in unknown_classes:\n",
    "    final_novel_classes_labels[k] = unknown_labels[unknown_classes.index(k)]\n",
    "\n",
    "novel_classes_labels = final_novel_classes_labels.copy()"
   ]
  },
  {
   "cell_type": "code",
   "execution_count": null,
   "metadata": {
    "colab": {
     "base_uri": "https://localhost:8080/"
    },
    "id": "KdqblErvWZTF",
    "outputId": "d28af26e-45f3-4a48-876c-054f1e344b2f"
   },
   "outputs": [
    {
     "data": {
      "text/plain": [
       "{'boat': 10,\n",
       " 'frog': 6,\n",
       " 'truck': 9,\n",
       " 'dog': 5,\n",
       " 'horse': 7,\n",
       " 'alligator': 15,\n",
       " 'lizard': 16,\n",
       " 'otter': 17,\n",
       " 'firetruck': 18,\n",
       " 'turkey': 19,\n",
       " 'elk': 20,\n",
       " 'squirrel': 21,\n",
       " 'emu': 22,\n",
       " 'reindeer': 23,\n",
       " 'snake': 24,\n",
       " 'ship': 8,\n",
       " 'sailboat': 26,\n",
       " 'person': 27,\n",
       " 'chair': 28,\n",
       " 'monkey': 29,\n",
       " 'donkey': 30,\n",
       " 'toad': 31,\n",
       " 'tugboat': 32,\n",
       " 'unidentifiable': 33}"
      ]
     },
     "execution_count": 16,
     "metadata": {},
     "output_type": "execute_result"
    }
   ],
   "source": [
    "novel_classes_labels"
   ]
  },
  {
   "cell_type": "code",
   "execution_count": null,
   "metadata": {
    "id": "3nGwZFH6WZTF"
   },
   "outputs": [],
   "source": [
    "# Known classes accuracy\n",
    "\n",
    "pred_labels = list()\n",
    "\n",
    "for pred_class in predicted_classes:\n",
    "  if pred_class in known_classes:\n",
    "    pred_labels.append(known_labels[known_classes.index(pred_class)])\n",
    "  else:\n",
    "    pred_labels.append(novel_classes_labels[pred_class])"
   ]
  },
  {
   "cell_type": "code",
   "execution_count": null,
   "metadata": {
    "colab": {
     "base_uri": "https://localhost:8080/"
    },
    "id": "B6cWtHHwWZTG",
    "outputId": "f180da9a-2324-4c1f-ae27-23bd6d18da03"
   },
   "outputs": [
    {
     "data": {
      "text/plain": [
       "100"
      ]
     },
     "execution_count": 18,
     "metadata": {},
     "output_type": "execute_result"
    }
   ],
   "source": [
    "len(pred_labels)"
   ]
  },
  {
   "cell_type": "code",
   "execution_count": null,
   "metadata": {
    "colab": {
     "base_uri": "https://localhost:8080/"
    },
    "id": "-NmK4p3RWZTG",
    "outputId": "c72eb256-4508-4c6d-cfbd-8621cb169831"
   },
   "outputs": [
    {
     "name": "stderr",
     "output_type": "stream",
     "text": [
      "100%|██████████| 100/100 [00:00<00:00, 2348.30it/s]\n"
     ]
    },
    {
     "data": {
      "text/plain": [
       "100"
      ]
     },
     "execution_count": 19,
     "metadata": {},
     "output_type": "execute_result"
    }
   ],
   "source": [
    "gt_labels = [testset[idx][1] for idx in tqdm(range(100))]\n",
    "len(gt_labels)"
   ]
  },
  {
   "cell_type": "code",
   "execution_count": null,
   "metadata": {
    "id": "bK6Sc7nQWZTG"
   },
   "outputs": [],
   "source": [
    "pred_labels, gt_labels = np.array(pred_labels), np.array(gt_labels)"
   ]
  },
  {
   "cell_type": "code",
   "execution_count": null,
   "metadata": {
    "colab": {
     "base_uri": "https://localhost:8080/"
    },
    "id": "j6z6omRsWZTG",
    "outputId": "13494bcc-3104-4dd4-da26-3006068bc78c"
   },
   "outputs": [
    {
     "data": {
      "text/plain": [
       "0.6721003996003996"
      ]
     },
     "execution_count": 25,
     "metadata": {},
     "output_type": "execute_result"
    }
   ],
   "source": [
    "from sklearn.metrics import balanced_accuracy_score\n",
    "\n",
    "overall_acc = balanced_accuracy_score(gt_labels, pred_labels)\n",
    "overall_acc"
   ]
  },
  {
   "cell_type": "code",
   "execution_count": null,
   "metadata": {
    "colab": {
     "base_uri": "https://localhost:8080/"
    },
    "id": "DTn0Iv7BWZTG",
    "outputId": "396de175-e538-4f5e-a89b-15470e1a3792"
   },
   "outputs": [
    {
     "data": {
      "text/plain": [
       "0.6485714285714285"
      ]
     },
     "execution_count": 29,
     "metadata": {},
     "output_type": "execute_result"
    }
   ],
   "source": [
    "desiered_items = [l in known_labels for l in gt_labels]\n",
    "known_acc = balanced_accuracy_score(gt_labels[desiered_items], pred_labels[desiered_items])\n",
    "known_acc"
   ]
  },
  {
   "cell_type": "code",
   "execution_count": null,
   "metadata": {
    "colab": {
     "base_uri": "https://localhost:8080/"
    },
    "id": "jelKfeI0WZTG",
    "outputId": "353f994e-85da-4cc2-c8f0-d7545b70c4f1"
   },
   "outputs": [
    {
     "data": {
      "text/plain": [
       "0.6956293706293707"
      ]
     },
     "execution_count": 30,
     "metadata": {},
     "output_type": "execute_result"
    }
   ],
   "source": [
    "desiered_items = [not(l in known_labels) for l in gt_labels]\n",
    "unknown_acc = balanced_accuracy_score(gt_labels[desiered_items], pred_labels[desiered_items])\n",
    "unknown_acc"
   ]
  },
  {
   "cell_type": "markdown",
   "metadata": {
    "id": "XiLXw14p5BoK"
   },
   "source": [
    "### loop"
   ]
  },
  {
   "cell_type": "code",
   "execution_count": null,
   "metadata": {
    "id": "7LgDFz7m5K4f"
   },
   "outputs": [],
   "source": [
    "batches = (range(1000), range(1000, 2000), range(2000, len(sampled_dataset)))\n",
    "\n",
    "# batches_results = list()\n",
    "\n",
    "for batch in batches:\n",
    "\n",
    "  batch_dict = dict()\n",
    "\n",
    "  gt_labels = np.array([sampled_dataset[idx][1] for idx in batch])\n",
    "\n",
    "  prompt_template = \"What biological class does the object in the image belong to, choose from this list: {list_of_classes}. If none fits, add a new category. Avoid plurals, conjugations, synonyms, answer with one word, the latin term.\"\n",
    "\n",
    "  classes = list(known_classes)\n",
    "  novel_label_idx = 10\n",
    "\n",
    "  predicted_classes = list()\n",
    "  novel_classes_labels = dict()\n",
    "\n",
    "  for idx in tqdm(batch):\n",
    "    im, label = sampled_dataset[idx]\n",
    "    list_of_classes = \"\".join([\"a \"+c+\", \" for c in classes[:-1]])\n",
    "    list_of_classes = list_of_classes + f\"or a {classes[-1]}\"\n",
    "    prompt = prompt_template.format(list_of_classes=list_of_classes)\n",
    "\n",
    "    # im = im / 2 + 0.5\n",
    "    # im = im.detach().cpu().numpy()\n",
    "    # im = rescale_image(im).astype(int)\n",
    "    # im = np.transpose(im, (1, 2, 0))\n",
    "\n",
    "    im = np.array(im)\n",
    "\n",
    "    pred_class = get_a_category(prompt, im)\n",
    "    predicted_classes.append(pred_class)\n",
    "\n",
    "    if not(pred_class in classes):\n",
    "      classes.append(pred_class)\n",
    "      novel_classes_labels[pred_class] = novel_label_idx\n",
    "      novel_label_idx += 1\n",
    "\n",
    "  # use correct unknown labels\n",
    "  final_novel_classes_labels = dict()\n",
    "  for k, v in novel_classes_labels.items():\n",
    "    final_novel_classes_labels[k] = v\n",
    "    if k in unknown_classes:\n",
    "      final_novel_classes_labels[k] = unknown_labels[unknown_classes.index(k)]\n",
    "  novel_classes_labels = final_novel_classes_labels.copy()\n",
    "\n",
    "  # predicted labels list\n",
    "  pred_labels = list()\n",
    "  for pred_class in predicted_classes:\n",
    "    if pred_class in known_classes:\n",
    "      pred_labels.append(known_labels[known_classes.index(pred_class)])\n",
    "    else:\n",
    "      pred_labels.append(novel_classes_labels[pred_class])\n",
    "  pred_labels = np.array(pred_labels)\n",
    "\n",
    "  # Accuracy\n",
    "  # overall\n",
    "  overall_acc = balanced_accuracy_score(gt_labels, pred_labels)\n",
    "  # known\n",
    "  desiered_items = [l in known_labels for l in gt_labels]\n",
    "  known_acc = balanced_accuracy_score(gt_labels[desiered_items], pred_labels[desiered_items])\n",
    "  # unknown\n",
    "  desiered_items = [not(l in known_labels) for l in gt_labels]\n",
    "  unknown_acc = balanced_accuracy_score(gt_labels[desiered_items], pred_labels[desiered_items])\n",
    "\n",
    "  batch_dict[\"gt_labels\"] = gt_labels.copy()\n",
    "  batch_dict[\"predicted_classes\"] = predicted_classes.copy()\n",
    "  batch_dict[\"novel_classes_labels\"] = novel_classes_labels.copy()\n",
    "  batch_dict[\"pred_labels\"] = pred_labels.copy()\n",
    "  batch_dict[\"accuracy\"] = {\"overall\":overall_acc,\n",
    "                            \"known\":known_acc,\n",
    "                            \"unknown\":unknown_acc}\n",
    "\n",
    "  batches_results.append(batch_dict.copy())"
   ]
  },
  {
   "cell_type": "markdown",
   "metadata": {
    "id": "HrIeQGmv5F5B"
   },
   "source": [
    "#### Average accuracy"
   ]
  },
  {
   "cell_type": "code",
   "execution_count": null,
   "metadata": {
    "id": "t4Iu170V6Irj"
   },
   "outputs": [
    {
     "name": "stdout",
     "output_type": "stream",
     "text": [
      "solution2 average accuracy:\n",
      "overall\t: 0.709023490604416\n",
      "known\t: 0.777684122766981\n",
      "unknown\t: 0.6403628584418514\n"
     ]
    }
   ],
   "source": [
    "overall, known, unknown = 0, 0, 0\n",
    "\n",
    "for res in batches_results:\n",
    "  overall += res[\"accuracy\"][\"overall\"]\n",
    "  known += res[\"accuracy\"][\"known\"]\n",
    "  unknown += res[\"accuracy\"][\"unknown\"]\n",
    "\n",
    "num_batches = len(batches_results)\n",
    "\n",
    "print(f\"{exp_type} average accuracy:\")\n",
    "print(f\"overall\\t: {overall/num_batches}\")\n",
    "print(f\"known\\t: {known/num_batches}\")\n",
    "print(f\"unknown\\t: {unknown/num_batches}\")"
   ]
  },
  {
   "cell_type": "code",
   "execution_count": 90,
   "metadata": {},
   "outputs": [
    {
     "data": {
      "text/plain": [
       "{'boat': 10,\n",
       " 'lizard': 11,\n",
       " 'truck': 9,\n",
       " 'dog': 5,\n",
       " 'horse': 7,\n",
       " 'frog': 6,\n",
       " 'donkey': 16,\n",
       " 'owl': 17,\n",
       " 'goat': 18,\n",
       " 'building': 19,\n",
       " 'ostrich': 20,\n",
       " 'submarine': 21,\n",
       " 'fish': 22,\n",
       " 'rock': 23,\n",
       " 'moose': 24}"
      ]
     },
     "execution_count": 90,
     "metadata": {},
     "output_type": "execute_result"
    }
   ],
   "source": [
    "batches_results[0]['novel_classes_labels']"
   ]
  },
  {
   "cell_type": "code",
   "execution_count": 73,
   "metadata": {},
   "outputs": [
    {
     "data": {
      "text/plain": [
       "<matplotlib.image.AxesImage at 0x1aaa2fc50f0>"
      ]
     },
     "execution_count": 73,
     "metadata": {},
     "output_type": "execute_result"
    },
    {
     "data": {
      "image/png": "[encoded data removed]",
      "text/plain": [
       "<Figure size 640x480 with 1 Axes>"
      ]
     },
     "metadata": {},
     "output_type": "display_data"
    }
   ],
   "source": [
    "im = testset[1041][0]\n",
    "im = im / 2 + 0.5\n",
    "im = im.detach().cpu().numpy()\n",
    "im = rescale_image(im).astype(int)\n",
    "im = np.transpose(im, (1, 2, 0))\n",
    "plt.imshow(im)"
   ]
  },
  {
   "cell_type": "code",
   "execution_count": 84,
   "metadata": {},
   "outputs": [],
   "source": [
    "prompt = \"What is depicted on the image, choose from this list: bird, a bunny, a car. If none fits, add a new category. Avoid plurals, conjugations, synonyms and answer with a single word.\"\n",
    "pred_class = get_a_category(prompt, im)"
   ]
  },
  {
   "cell_type": "code",
   "execution_count": 85,
   "metadata": {},
   "outputs": [
    {
     "data": {
      "text/plain": [
       "'dog'"
      ]
     },
     "execution_count": 85,
     "metadata": {},
     "output_type": "execute_result"
    }
   ],
   "source": [
    "pred_class"
   ]
  },
  {
   "cell_type": "code",
   "execution_count": null,
   "metadata": {},
   "outputs": [
    {
     "data": {
      "text/plain": [
       "array([ 5,  0, 11,  4,  8,  1,  1, 13,  9,  6,  0,  8,  6,  1,  3,  4,  1,\n",
       "       16,  0,  5,  1,  1, 17, 17, 18,  5, 19, 17, 20,  6,  3,  3, 20,  3,\n",
       "        6,  6, 17,  7,  2,  2,  2, 22, 20, 23,  8,  5,  2,  1,  1,  4,  3,\n",
       "        2, 17,  3,  1,  5, 20,  7,  6,  8,  9,  1,  6,  4, 24,  3,  1, 17,\n",
       "        9,  6,  3,  6, 17,  7,  3,  8, 17, 17, 17,  6,  6,  6, 25,  2,  5,\n",
       "        4,  4, 20, 20,  6, 26, 11,  6, 17,  6, 20,  7,  5,  1,  2,  7,  8,\n",
       "        8, 17, 27,  5, 28,  7, 23, 17,  2,  8,  3,  8, 27,  1,  5,  5, 23,\n",
       "        7, 23, 20,  8,  3,  3, 19,  2,  8, 23,  5,  7, 29, 20, 20,  1,  6,\n",
       "        9, 30,  5,  8, 20,  1, 11,  6,  1, 23, 23,  6,  2,  7,  2,  2, 17,\n",
       "        8, 19,  9,  1, 31,  1,  8, 11, 17,  7,  3, 32, 33,  3, 34,  3,  7,\n",
       "        7,  9, 35, 20,  1,  9,  1,  9,  6,  3,  3,  3,  1, 17, 20,  1, 34,\n",
       "        1, 17, 17,  1,  9,  6,  5,  4,  6, 23,  9,  7,  9, 11,  7,  2, 17,\n",
       "        6, 11,  1,  4,  3,  7, 17, 20,  1, 11,  5,  7, 11,  4,  8,  3,  9,\n",
       "       29,  9,  8,  7,  6, 20,  5,  5,  1,  5,  9,  1,  4,  1, 36,  5, 17,\n",
       "        1,  5,  2, 17, 11,  8, 22,  6,  7, 20, 20, 34,  7, 37,  5, 11,  2,\n",
       "        4,  9,  2,  1,  8,  1,  9, 11, 17,  8,  9, 26, 34,  3,  3,  1, 38,\n",
       "       34,  6,  3,  5,  5, 20,  2, 11,  3, 11,  9,  5, 11,  9, 11,  9,  1,\n",
       "        6,  5, 29, 34, 34, 20, 17,  7,  2,  9,  7,  4,  1, 20,  4, 32,  9,\n",
       "        1,  2,  5,  6, 17,  8, 19, 29,  9,  4,  5,  9,  5, 17,  7, 20, 17,\n",
       "       17,  4, 20, 20, 20,  5,  5,  2, 26,  1,  7,  3,  1,  4,  5, 20,  5,\n",
       "        1,  4,  7, 17, 29,  4,  3, 39, 23,  8, 20,  7,  2,  3,  1, 35,  2,\n",
       "        9, 38, 27,  7,  9,  5,  1, 23, 17,  8,  2, 20,  8, 25,  1,  1,  3,\n",
       "        2, 40,  9,  3,  1,  7,  4,  6,  2, 38,  9,  5,  3,  9,  5,  5, 19,\n",
       "       23, 23, 20, 20, 41,  1, 17, 17, 23,  5, 40,  7, 20,  1,  1,  9, 11,\n",
       "        1, 17,  1,  3,  1, 29,  1,  7,  3,  9,  6, 38,  4, 19, 11, 40,  9,\n",
       "        4,  7,  9,  7, 19, 11, 20,  9,  7, 17,  1,  6,  1,  5,  9,  2,  4,\n",
       "       20,  4,  1,  3, 42,  8, 43,  6, 20,  2,  6,  5,  3,  6, 44,  1,  1,\n",
       "       38,  6, 17, 35, 26,  1,  9,  7,  1,  3,  7,  7, 11,  7,  7,  3, 27,\n",
       "        7,  7,  7, 20,  1,  2,  8,  6,  4, 26,  7, 27, 11, 45,  8,  4,  1,\n",
       "        1,  7,  2, 37, 11,  5, 11,  1, 37,  2,  4,  1,  2, 34, 23, 26,  1,\n",
       "       11,  1,  8, 20, 25, 23, 40,  1, 20, 20,  7,  7, 35,  4,  3,  3,  4,\n",
       "        5,  2,  4,  3,  7,  8, 46, 20, 34,  5, 40, 47,  2,  8,  4,  5, 48,\n",
       "        4,  9,  4,  2,  5,  1, 20,  4,  3, 20, 34, 26,  8, 32,  4, 20,  7,\n",
       "        5, 20,  9,  9,  6,  7,  2, 17,  1, 20,  5, 17, 25, 17,  2,  7,  5,\n",
       "       20, 17,  6,  2,  9,  1, 49,  7,  5,  2,  5,  6,  4,  1,  4,  3, 20,\n",
       "       50, 26,  3,  5,  5, 11,  9,  7,  3,  1,  3,  3, 20,  4, 51,  2,  3,\n",
       "        3, 38, 52,  7,  7, 17, 20,  4, 20,  1, 46, 53,  4,  3,  9,  9, 34,\n",
       "        9,  9, 52,  8,  1,  6,  7,  5,  5,  4, 29, 43,  6,  5,  9, 20, 20,\n",
       "       17,  7, 38, 54,  5, 17, 18,  9, 20, 11, 20,  5,  4, 11,  3, 20, 55,\n",
       "        6, 20,  6, 20, 20, 28, 45, 20, 11, 20,  2, 34,  5,  8,  1,  2,  7,\n",
       "       56,  5,  7,  8,  1, 19, 17, 11,  6, 25, 37,  8, 27,  4, 17,  9, 46,\n",
       "       27,  5,  7,  5,  5,  9,  3,  3, 17, 52, 27, 20, 19, 45,  1, 17, 38,\n",
       "       17,  3,  1,  7, 11, 17,  4,  8,  6, 20,  4, 17, 17, 57, 17, 11,  4,\n",
       "       20,  9,  3,  9, 26,  5,  6,  5,  1,  1,  4, 11,  1, 17,  5,  2,  1,\n",
       "       17, 35, 11,  1,  5, 20,  7,  7, 45, 20, 23,  5, 17,  1,  4,  2,  5,\n",
       "       20, 20,  2,  2,  1,  7, 45, 32, 20,  5,  3, 17,  4, 38,  5,  7,  6,\n",
       "        3,  8,  1, 17,  1,  3, 20, 17,  7, 20,  9,  5, 20,  6, 26,  1, 20,\n",
       "       40, 32,  4,  2,  2,  5, 11,  1,  5,  9,  8,  1,  1,  5,  3, 28,  9,\n",
       "        7, 16,  5, 17, 11,  4,  7, 17,  9,  2, 32,  4,  7,  1,  3,  9, 20,\n",
       "       11,  9, 17,  4,  1,  6,  7, 32,  9, 40, 38, 57, 49, 20,  5,  3,  7,\n",
       "        1, 17,  2,  9,  5,  5, 11,  5,  4, 19, 11,  3,  5,  5,  7,  7,  8,\n",
       "       20,  2, 11,  2,  3,  5, 20,  8, 17,  2, 20,  7, 17,  1,  9,  1, 48,\n",
       "        7,  5, 58,  3, 23, 28, 20,  8, 20,  9,  3, 38,  9, 38, 20,  7, 38,\n",
       "        5, 17, 17,  1,  3, 20,  1,  5,  3,  4,  4, 17,  9,  9, 59,  9,  8,\n",
       "        2,  4, 60, 26,  5,  1, 61,  1, 17,  9,  4,  2,  1,  6, 17, 55,  7,\n",
       "        2,  3,  1, 38,  3,  5,  7, 23, 11, 20,  4, 11,  3,  5, 17,  5,  7,\n",
       "        4, 23, 23, 23,  7,  3, 20, 17, 23, 62, 20, 23,  3, 17,  7,  7, 32,\n",
       "        1,  1, 20,  2, 17,  6,  6,  5,  5,  6,  3, 27, 63, 20, 20,  7,  6,\n",
       "       35,  9,  5,  6,  4,  1,  6, 35, 11, 60, 20,  9, 26,  5])"
      ]
     },
     "execution_count": 63,
     "metadata": {},
     "output_type": "execute_result"
    }
   ],
   "source": [
    "batches_results[1]['']"
   ]
  },
  {
   "cell_type": "code",
   "execution_count": 60,
   "metadata": {},
   "outputs": [
    {
     "data": {
      "text/plain": [
       "{'dog': 5,\n",
       " 'boat': 11,\n",
       " 'ship': 8,\n",
       " 'fish': 13,\n",
       " 'truck': 9,\n",
       " 'frog': 6,\n",
       " 'fox': 16,\n",
       " 'airplane': 17,\n",
       " 'hand': 18,\n",
       " 'lizard': 19,\n",
       " 'unidentifiable': 20,\n",
       " 'horse': 7,\n",
       " 'dogs': 22,\n",
       " 'ostrich': 23,\n",
       " 'mailbox': 24,\n",
       " 'towtruck': 25,\n",
       " 'seaplane': 26,\n",
       " 'firetruck': 27,\n",
       " 'bus': 28,\n",
       " 'van': 29,\n",
       " 'boot': 30,\n",
       " 'unicorn': 31,\n",
       " 'sailboat': 32,\n",
       " 'clouds': 33,\n",
       " 'moose': 34,\n",
       " 'bear': 35,\n",
       " 'mushrooms': 36,\n",
       " 'parrot': 37,\n",
       " 'tugboat': 38,\n",
       " 'jet-ski': 39,\n",
       " 'elk': 40,\n",
       " 'keyboard': 41,\n",
       " 'shark': 42,\n",
       " 'llama': 43,\n",
       " 'rooster': 44,\n",
       " 'squirrel': 45,\n",
       " 'caribou': 46,\n",
       " 'stairs': 47,\n",
       " 'rabbit': 48,\n",
       " 'people': 49,\n",
       " 'donut': 50,\n",
       " 'flamingo': 51,\n",
       " 'policecar': 52,\n",
       " 'helicopter': 53,\n",
       " 'monkey': 54,\n",
       " 'cats': 55,\n",
       " 'elephant': 56,\n",
       " 'trailer': 57,\n",
       " 'hat': 58,\n",
       " 'generator': 59,\n",
       " 'cassowary': 60,\n",
       " 'bridge': 61,\n",
       " 'sheep': 62,\n",
       " 'kangaroo': 63}"
      ]
     },
     "execution_count": 60,
     "metadata": {},
     "output_type": "execute_result"
    }
   ],
   "source": [
    "batches_results[1]['novel_classes_labels']"
   ]
  },
  {
   "cell_type": "markdown",
   "metadata": {
    "id": "5Ws43ofC5If5"
   },
   "source": [
    "#### save to drive"
   ]
  },
  {
   "cell_type": "code",
   "execution_count": null,
   "metadata": {},
   "outputs": [],
   "source": [
    "exp_type = \"solution2\"\n",
    "\n",
    "with open(f\"{folder_path}/{DS}_{exp_type}_batches_results_new_prompt.pkl\", \"wb\") as f:\n",
    "    pickle.dump(batches_results, f)"
   ]
  },
  {
   "cell_type": "code",
   "execution_count": null,
   "metadata": {
    "id": "LryjH3Yr5DL7"
   },
   "outputs": [],
   "source": [
    "full_dict = {exp_type: np.array(batches_results)}\n",
    "np.savez_compressed(f\"{folder_path}/{DS}/{DS}_{exp_type}.npz\", **full_dict)"
   ]
  }
 ],
 "metadata": {
  "accelerator": "GPU",
  "colab": {
   "collapsed_sections": [
    "CwRuhDI-3XrY"
   ],
   "gpuType": "T4",
   "provenance": [],
   "toc_visible": true
  },
  "kernelspec": {
   "display_name": ".venv",
   "language": "python",
   "name": "python3"
  },
  "language_info": {
   "codemirror_mode": {
    "name": "ipython",
    "version": 3
   },
   "file_extension": ".py",
   "mimetype": "text/x-python",
   "name": "python",
   "nbconvert_exporter": "python",
   "pygments_lexer": "ipython3",
   "version": "3.10.7"
  },
  "widgets": {
   "application/vnd.jupyter.widget-state+json": {
    "010f31e2dd884f98a00381cccf5026e9": {
     "model_module": "@jupyter-widgets/base",
     "model_module_version": "1.2.0",
     "model_name": "LayoutModel",
     "state": {
      "_model_module": "@jupyter-widgets/base",
      "_model_module_version": "1.2.0",
      "_model_name": "LayoutModel",
      "_view_count": null,
      "_view_module": "@jupyter-widgets/base",
      "_view_module_version": "1.2.0",
      "_view_name": "LayoutView",
      "align_content": null,
      "align_items": null,
      "align_self": null,
      "border": null,
      "bottom": null,
      "display": null,
      "flex": null,
      "flex_flow": null,
      "grid_area": null,
      "grid_auto_columns": null,
      "grid_auto_flow": null,
      "grid_auto_rows": null,
      "grid_column": null,
      "grid_gap": null,
      "grid_row": null,
      "grid_template_areas": null,
      "grid_template_columns": null,
      "grid_template_rows": null,
      "height": null,
      "justify_content": null,
      "justify_items": null,
      "left": null,
      "margin": null,
      "max_height": null,
      "max_width": null,
      "min_height": null,
      "min_width": null,
      "object_fit": null,
      "object_position": null,
      "order": null,
      "overflow": null,
      "overflow_x": null,
      "overflow_y": null,
      "padding": null,
      "right": null,
      "top": null,
      "visibility": null,
      "width": null
     }
    },
    "052340b6f4f949bab48be3ed172edff0": {
     "model_module": "@jupyter-widgets/base",
     "model_module_version": "1.2.0",
     "model_name": "LayoutModel",
     "state": {
      "_model_module": "@jupyter-widgets/base",
      "_model_module_version": "1.2.0",
      "_model_name": "LayoutModel",
      "_view_count": null,
      "_view_module": "@jupyter-widgets/base",
      "_view_module_version": "1.2.0",
      "_view_name": "LayoutView",
      "align_content": null,
      "align_items": null,
      "align_self": null,
      "border": null,
      "bottom": null,
      "display": null,
      "flex": null,
      "flex_flow": null,
      "grid_area": null,
      "grid_auto_columns": null,
      "grid_auto_flow": null,
      "grid_auto_rows": null,
      "grid_column": null,
      "grid_gap": null,
      "grid_row": null,
      "grid_template_areas": null,
      "grid_template_columns": null,
      "grid_template_rows": null,
      "height": null,
      "justify_content": null,
      "justify_items": null,
      "left": null,
      "margin": null,
      "max_height": null,
      "max_width": null,
      "min_height": null,
      "min_width": null,
      "object_fit": null,
      "object_position": null,
      "order": null,
      "overflow": null,
      "overflow_x": null,
      "overflow_y": null,
      "padding": null,
      "right": null,
      "top": null,
      "visibility": null,
      "width": null
     }
    },
    "062ab86749c2406ab9c935025c9a7d1e": {
     "model_module": "@jupyter-widgets/controls",
     "model_module_version": "1.5.0",
     "model_name": "HTMLModel",
     "state": {
      "_dom_classes": [],
      "_model_module": "@jupyter-widgets/controls",
      "_model_module_version": "1.5.0",
      "_model_name": "HTMLModel",
      "_view_count": null,
      "_view_module": "@jupyter-widgets/controls",
      "_view_module_version": "1.5.0",
      "_view_name": "HTMLView",
      "description": "",
      "description_tooltip": null,
      "layout": "IPY_MODEL_2a76bed1f8b3493087b087f1437930c3",
      "placeholder": "​",
      "style": "IPY_MODEL_5cfd196eea3e4c9ba4ebc783b127d759",
      "value": "tokenizer_config.json: 100%"
     }
    },
    "0db4ed92893b400b9a96ae11cf13669d": {
     "model_module": "@jupyter-widgets/controls",
     "model_module_version": "1.5.0",
     "model_name": "HBoxModel",
     "state": {
      "_dom_classes": [],
      "_model_module": "@jupyter-widgets/controls",
      "_model_module_version": "1.5.0",
      "_model_name": "HBoxModel",
      "_view_count": null,
      "_view_module": "@jupyter-widgets/controls",
      "_view_module_version": "1.5.0",
      "_view_name": "HBoxView",
      "box_style": "",
      "children": [
       "IPY_MODEL_71ffe7a4a8bb45559cab607301e4e1fe",
       "IPY_MODEL_f42b802811294f63bbb1f48cddbda7bc",
       "IPY_MODEL_dd3e056ed5244973806f261088af8010"
      ],
      "layout": "IPY_MODEL_5dbc613ed7db4485a3e24fce7fcdd0d8"
     }
    },
    "0ecdf66d60e649299bba2bed24c96298": {
     "model_module": "@jupyter-widgets/controls",
     "model_module_version": "1.5.0",
     "model_name": "FloatProgressModel",
     "state": {
      "_dom_classes": [],
      "_model_module": "@jupyter-widgets/controls",
      "_model_module_version": "1.5.0",
      "_model_name": "FloatProgressModel",
      "_view_count": null,
      "_view_module": "@jupyter-widgets/controls",
      "_view_module_version": "1.5.0",
      "_view_name": "ProgressView",
      "bar_style": "success",
      "description": "",
      "description_tooltip": null,
      "layout": "IPY_MODEL_84b3843c4a0f4326bfd61d1a31d9eef8",
      "max": 570,
      "min": 0,
      "orientation": "horizontal",
      "style": "IPY_MODEL_dab754e4b35e4d7ca1ddbff6a1767642",
      "value": 570
     }
    },
    "0f87f50e8e5d4765b20a07c11eb3f768": {
     "model_module": "@jupyter-widgets/controls",
     "model_module_version": "1.5.0",
     "model_name": "DescriptionStyleModel",
     "state": {
      "_model_module": "@jupyter-widgets/controls",
      "_model_module_version": "1.5.0",
      "_model_name": "DescriptionStyleModel",
      "_view_count": null,
      "_view_module": "@jupyter-widgets/base",
      "_view_module_version": "1.2.0",
      "_view_name": "StyleView",
      "description_width": ""
     }
    },
    "15b84c5231fb4c1ebb30a080a1fe3c2f": {
     "model_module": "@jupyter-widgets/base",
     "model_module_version": "1.2.0",
     "model_name": "LayoutModel",
     "state": {
      "_model_module": "@jupyter-widgets/base",
      "_model_module_version": "1.2.0",
      "_model_name": "LayoutModel",
      "_view_count": null,
      "_view_module": "@jupyter-widgets/base",
      "_view_module_version": "1.2.0",
      "_view_name": "LayoutView",
      "align_content": null,
      "align_items": null,
      "align_self": null,
      "border": null,
      "bottom": null,
      "display": null,
      "flex": null,
      "flex_flow": null,
      "grid_area": null,
      "grid_auto_columns": null,
      "grid_auto_flow": null,
      "grid_auto_rows": null,
      "grid_column": null,
      "grid_gap": null,
      "grid_row": null,
      "grid_template_areas": null,
      "grid_template_columns": null,
      "grid_template_rows": null,
      "height": null,
      "justify_content": null,
      "justify_items": null,
      "left": null,
      "margin": null,
      "max_height": null,
      "max_width": null,
      "min_height": null,
      "min_width": null,
      "object_fit": null,
      "object_position": null,
      "order": null,
      "overflow": null,
      "overflow_x": null,
      "overflow_y": null,
      "padding": null,
      "right": null,
      "top": null,
      "visibility": null,
      "width": null
     }
    },
    "16428969619b43d5ab6accfeb7122e1d": {
     "model_module": "@jupyter-widgets/controls",
     "model_module_version": "1.5.0",
     "model_name": "HBoxModel",
     "state": {
      "_dom_classes": [],
      "_model_module": "@jupyter-widgets/controls",
      "_model_module_version": "1.5.0",
      "_model_name": "HBoxModel",
      "_view_count": null,
      "_view_module": "@jupyter-widgets/controls",
      "_view_module_version": "1.5.0",
      "_view_name": "HBoxView",
      "box_style": "",
      "children": [
       "IPY_MODEL_f0ea6847c18e43b9b10b51270b74111b",
       "IPY_MODEL_311e058537b54668a7c03baf7afe6ce8",
       "IPY_MODEL_5186fbfcb6d841f08a9938180c7c4bba"
      ],
      "layout": "IPY_MODEL_15b84c5231fb4c1ebb30a080a1fe3c2f"
     }
    },
    "22d0c0aad6324f8c9ac71c120dab922d": {
     "model_module": "@jupyter-widgets/base",
     "model_module_version": "1.2.0",
     "model_name": "LayoutModel",
     "state": {
      "_model_module": "@jupyter-widgets/base",
      "_model_module_version": "1.2.0",
      "_model_name": "LayoutModel",
      "_view_count": null,
      "_view_module": "@jupyter-widgets/base",
      "_view_module_version": "1.2.0",
      "_view_name": "LayoutView",
      "align_content": null,
      "align_items": null,
      "align_self": null,
      "border": null,
      "bottom": null,
      "display": null,
      "flex": null,
      "flex_flow": null,
      "grid_area": null,
      "grid_auto_columns": null,
      "grid_auto_flow": null,
      "grid_auto_rows": null,
      "grid_column": null,
      "grid_gap": null,
      "grid_row": null,
      "grid_template_areas": null,
      "grid_template_columns": null,
      "grid_template_rows": null,
      "height": null,
      "justify_content": null,
      "justify_items": null,
      "left": null,
      "margin": null,
      "max_height": null,
      "max_width": null,
      "min_height": null,
      "min_width": null,
      "object_fit": null,
      "object_position": null,
      "order": null,
      "overflow": null,
      "overflow_x": null,
      "overflow_y": null,
      "padding": null,
      "right": null,
      "top": null,
      "visibility": null,
      "width": null
     }
    },
    "27d187ffbf3a4966bbab28f381296430": {
     "model_module": "@jupyter-widgets/controls",
     "model_module_version": "1.5.0",
     "model_name": "ProgressStyleModel",
     "state": {
      "_model_module": "@jupyter-widgets/controls",
      "_model_module_version": "1.5.0",
      "_model_name": "ProgressStyleModel",
      "_view_count": null,
      "_view_module": "@jupyter-widgets/base",
      "_view_module_version": "1.2.0",
      "_view_name": "StyleView",
      "bar_color": null,
      "description_width": ""
     }
    },
    "2a76bed1f8b3493087b087f1437930c3": {
     "model_module": "@jupyter-widgets/base",
     "model_module_version": "1.2.0",
     "model_name": "LayoutModel",
     "state": {
      "_model_module": "@jupyter-widgets/base",
      "_model_module_version": "1.2.0",
      "_model_name": "LayoutModel",
      "_view_count": null,
      "_view_module": "@jupyter-widgets/base",
      "_view_module_version": "1.2.0",
      "_view_name": "LayoutView",
      "align_content": null,
      "align_items": null,
      "align_self": null,
      "border": null,
      "bottom": null,
      "display": null,
      "flex": null,
      "flex_flow": null,
      "grid_area": null,
      "grid_auto_columns": null,
      "grid_auto_flow": null,
      "grid_auto_rows": null,
      "grid_column": null,
      "grid_gap": null,
      "grid_row": null,
      "grid_template_areas": null,
      "grid_template_columns": null,
      "grid_template_rows": null,
      "height": null,
      "justify_content": null,
      "justify_items": null,
      "left": null,
      "margin": null,
      "max_height": null,
      "max_width": null,
      "min_height": null,
      "min_width": null,
      "object_fit": null,
      "object_position": null,
      "order": null,
      "overflow": null,
      "overflow_x": null,
      "overflow_y": null,
      "padding": null,
      "right": null,
      "top": null,
      "visibility": null,
      "width": null
     }
    },
    "2b08a5551cdb4120886a3602e5acc39b": {
     "model_module": "@jupyter-widgets/base",
     "model_module_version": "1.2.0",
     "model_name": "LayoutModel",
     "state": {
      "_model_module": "@jupyter-widgets/base",
      "_model_module_version": "1.2.0",
      "_model_name": "LayoutModel",
      "_view_count": null,
      "_view_module": "@jupyter-widgets/base",
      "_view_module_version": "1.2.0",
      "_view_name": "LayoutView",
      "align_content": null,
      "align_items": null,
      "align_self": null,
      "border": null,
      "bottom": null,
      "display": null,
      "flex": null,
      "flex_flow": null,
      "grid_area": null,
      "grid_auto_columns": null,
      "grid_auto_flow": null,
      "grid_auto_rows": null,
      "grid_column": null,
      "grid_gap": null,
      "grid_row": null,
      "grid_template_areas": null,
      "grid_template_columns": null,
      "grid_template_rows": null,
      "height": null,
      "justify_content": null,
      "justify_items": null,
      "left": null,
      "margin": null,
      "max_height": null,
      "max_width": null,
      "min_height": null,
      "min_width": null,
      "object_fit": null,
      "object_position": null,
      "order": null,
      "overflow": null,
      "overflow_x": null,
      "overflow_y": null,
      "padding": null,
      "right": null,
      "top": null,
      "visibility": null,
      "width": null
     }
    },
    "311e058537b54668a7c03baf7afe6ce8": {
     "model_module": "@jupyter-widgets/controls",
     "model_module_version": "1.5.0",
     "model_name": "FloatProgressModel",
     "state": {
      "_dom_classes": [],
      "_model_module": "@jupyter-widgets/controls",
      "_model_module_version": "1.5.0",
      "_model_name": "FloatProgressModel",
      "_view_count": null,
      "_view_module": "@jupyter-widgets/controls",
      "_view_module_version": "1.5.0",
      "_view_name": "ProgressView",
      "bar_style": "success",
      "description": "",
      "description_tooltip": null,
      "layout": "IPY_MODEL_22d0c0aad6324f8c9ac71c120dab922d",
      "max": 466062,
      "min": 0,
      "orientation": "horizontal",
      "style": "IPY_MODEL_38f8aa0eabf64cfe8dcf83a421d40a35",
      "value": 466062
     }
    },
    "38f8aa0eabf64cfe8dcf83a421d40a35": {
     "model_module": "@jupyter-widgets/controls",
     "model_module_version": "1.5.0",
     "model_name": "ProgressStyleModel",
     "state": {
      "_model_module": "@jupyter-widgets/controls",
      "_model_module_version": "1.5.0",
      "_model_name": "ProgressStyleModel",
      "_view_count": null,
      "_view_module": "@jupyter-widgets/base",
      "_view_module_version": "1.2.0",
      "_view_name": "StyleView",
      "bar_color": null,
      "description_width": ""
     }
    },
    "489ec2c56b5241a7ab1a17f3929587ac": {
     "model_module": "@jupyter-widgets/controls",
     "model_module_version": "1.5.0",
     "model_name": "HBoxModel",
     "state": {
      "_dom_classes": [],
      "_model_module": "@jupyter-widgets/controls",
      "_model_module_version": "1.5.0",
      "_model_name": "HBoxModel",
      "_view_count": null,
      "_view_module": "@jupyter-widgets/controls",
      "_view_module_version": "1.5.0",
      "_view_name": "HBoxView",
      "box_style": "",
      "children": [
       "IPY_MODEL_062ab86749c2406ab9c935025c9a7d1e",
       "IPY_MODEL_61c4e366d1ba42519382328a5826b51c",
       "IPY_MODEL_9d16a275485e4af6a779635d2b3b2758"
      ],
      "layout": "IPY_MODEL_a8d1f7097bbb40a5b25f6db12a82f56a"
     }
    },
    "4aff5224a8154d62be1ca706fdcafee1": {
     "model_module": "@jupyter-widgets/base",
     "model_module_version": "1.2.0",
     "model_name": "LayoutModel",
     "state": {
      "_model_module": "@jupyter-widgets/base",
      "_model_module_version": "1.2.0",
      "_model_name": "LayoutModel",
      "_view_count": null,
      "_view_module": "@jupyter-widgets/base",
      "_view_module_version": "1.2.0",
      "_view_name": "LayoutView",
      "align_content": null,
      "align_items": null,
      "align_self": null,
      "border": null,
      "bottom": null,
      "display": null,
      "flex": null,
      "flex_flow": null,
      "grid_area": null,
      "grid_auto_columns": null,
      "grid_auto_flow": null,
      "grid_auto_rows": null,
      "grid_column": null,
      "grid_gap": null,
      "grid_row": null,
      "grid_template_areas": null,
      "grid_template_columns": null,
      "grid_template_rows": null,
      "height": null,
      "justify_content": null,
      "justify_items": null,
      "left": null,
      "margin": null,
      "max_height": null,
      "max_width": null,
      "min_height": null,
      "min_width": null,
      "object_fit": null,
      "object_position": null,
      "order": null,
      "overflow": null,
      "overflow_x": null,
      "overflow_y": null,
      "padding": null,
      "right": null,
      "top": null,
      "visibility": null,
      "width": null
     }
    },
    "4c065c2ee2eb48888b6a53bacdc19175": {
     "model_module": "@jupyter-widgets/base",
     "model_module_version": "1.2.0",
     "model_name": "LayoutModel",
     "state": {
      "_model_module": "@jupyter-widgets/base",
      "_model_module_version": "1.2.0",
      "_model_name": "LayoutModel",
      "_view_count": null,
      "_view_module": "@jupyter-widgets/base",
      "_view_module_version": "1.2.0",
      "_view_name": "LayoutView",
      "align_content": null,
      "align_items": null,
      "align_self": null,
      "border": null,
      "bottom": null,
      "display": null,
      "flex": null,
      "flex_flow": null,
      "grid_area": null,
      "grid_auto_columns": null,
      "grid_auto_flow": null,
      "grid_auto_rows": null,
      "grid_column": null,
      "grid_gap": null,
      "grid_row": null,
      "grid_template_areas": null,
      "grid_template_columns": null,
      "grid_template_rows": null,
      "height": null,
      "justify_content": null,
      "justify_items": null,
      "left": null,
      "margin": null,
      "max_height": null,
      "max_width": null,
      "min_height": null,
      "min_width": null,
      "object_fit": null,
      "object_position": null,
      "order": null,
      "overflow": null,
      "overflow_x": null,
      "overflow_y": null,
      "padding": null,
      "right": null,
      "top": null,
      "visibility": null,
      "width": null
     }
    },
    "4c2d9c0d5a454125b8566d40473c7e74": {
     "model_module": "@jupyter-widgets/controls",
     "model_module_version": "1.5.0",
     "model_name": "DescriptionStyleModel",
     "state": {
      "_model_module": "@jupyter-widgets/controls",
      "_model_module_version": "1.5.0",
      "_model_name": "DescriptionStyleModel",
      "_view_count": null,
      "_view_module": "@jupyter-widgets/base",
      "_view_module_version": "1.2.0",
      "_view_name": "StyleView",
      "description_width": ""
     }
    },
    "4f97cea08c7245e7b7cd9eee2c186132": {
     "model_module": "@jupyter-widgets/controls",
     "model_module_version": "1.5.0",
     "model_name": "DescriptionStyleModel",
     "state": {
      "_model_module": "@jupyter-widgets/controls",
      "_model_module_version": "1.5.0",
      "_model_name": "DescriptionStyleModel",
      "_view_count": null,
      "_view_module": "@jupyter-widgets/base",
      "_view_module_version": "1.2.0",
      "_view_name": "StyleView",
      "description_width": ""
     }
    },
    "5186fbfcb6d841f08a9938180c7c4bba": {
     "model_module": "@jupyter-widgets/controls",
     "model_module_version": "1.5.0",
     "model_name": "HTMLModel",
     "state": {
      "_dom_classes": [],
      "_model_module": "@jupyter-widgets/controls",
      "_model_module_version": "1.5.0",
      "_model_name": "HTMLModel",
      "_view_count": null,
      "_view_module": "@jupyter-widgets/controls",
      "_view_module_version": "1.5.0",
      "_view_name": "HTMLView",
      "description": "",
      "description_tooltip": null,
      "layout": "IPY_MODEL_7fff72d3151e47ca87485d7be20087c1",
      "placeholder": "​",
      "style": "IPY_MODEL_0f87f50e8e5d4765b20a07c11eb3f768",
      "value": " 466k/466k [00:00&lt;00:00, 14.0MB/s]"
     }
    },
    "523a786c5b924dc4aca3ef373f3135bc": {
     "model_module": "@jupyter-widgets/controls",
     "model_module_version": "1.5.0",
     "model_name": "HBoxModel",
     "state": {
      "_dom_classes": [],
      "_model_module": "@jupyter-widgets/controls",
      "_model_module_version": "1.5.0",
      "_model_name": "HBoxModel",
      "_view_count": null,
      "_view_module": "@jupyter-widgets/controls",
      "_view_module_version": "1.5.0",
      "_view_name": "HBoxView",
      "box_style": "",
      "children": [
       "IPY_MODEL_a236e4ea129741e181c10785e6419d21",
       "IPY_MODEL_e1ea75b3208c40fa80799e923b0f2f82",
       "IPY_MODEL_5a56383155164bb3b0db8f787a938100"
      ],
      "layout": "IPY_MODEL_c5411ca2d81448c8b344dd21394b1dc6"
     }
    },
    "5a56383155164bb3b0db8f787a938100": {
     "model_module": "@jupyter-widgets/controls",
     "model_module_version": "1.5.0",
     "model_name": "HTMLModel",
     "state": {
      "_dom_classes": [],
      "_model_module": "@jupyter-widgets/controls",
      "_model_module_version": "1.5.0",
      "_model_name": "HTMLModel",
      "_view_count": null,
      "_view_module": "@jupyter-widgets/controls",
      "_view_module_version": "1.5.0",
      "_view_name": "HTMLView",
      "description": "",
      "description_tooltip": null,
      "layout": "IPY_MODEL_c90c8d4e4e6547d192de1a4e9692939b",
      "placeholder": "​",
      "style": "IPY_MODEL_4c2d9c0d5a454125b8566d40473c7e74",
      "value": " 440M/440M [00:02&lt;00:00, 177MB/s]"
     }
    },
    "5cfd196eea3e4c9ba4ebc783b127d759": {
     "model_module": "@jupyter-widgets/controls",
     "model_module_version": "1.5.0",
     "model_name": "DescriptionStyleModel",
     "state": {
      "_model_module": "@jupyter-widgets/controls",
      "_model_module_version": "1.5.0",
      "_model_name": "DescriptionStyleModel",
      "_view_count": null,
      "_view_module": "@jupyter-widgets/base",
      "_view_module_version": "1.2.0",
      "_view_name": "StyleView",
      "description_width": ""
     }
    },
    "5dbc613ed7db4485a3e24fce7fcdd0d8": {
     "model_module": "@jupyter-widgets/base",
     "model_module_version": "1.2.0",
     "model_name": "LayoutModel",
     "state": {
      "_model_module": "@jupyter-widgets/base",
      "_model_module_version": "1.2.0",
      "_model_name": "LayoutModel",
      "_view_count": null,
      "_view_module": "@jupyter-widgets/base",
      "_view_module_version": "1.2.0",
      "_view_name": "LayoutView",
      "align_content": null,
      "align_items": null,
      "align_self": null,
      "border": null,
      "bottom": null,
      "display": null,
      "flex": null,
      "flex_flow": null,
      "grid_area": null,
      "grid_auto_columns": null,
      "grid_auto_flow": null,
      "grid_auto_rows": null,
      "grid_column": null,
      "grid_gap": null,
      "grid_row": null,
      "grid_template_areas": null,
      "grid_template_columns": null,
      "grid_template_rows": null,
      "height": null,
      "justify_content": null,
      "justify_items": null,
      "left": null,
      "margin": null,
      "max_height": null,
      "max_width": null,
      "min_height": null,
      "min_width": null,
      "object_fit": null,
      "object_position": null,
      "order": null,
      "overflow": null,
      "overflow_x": null,
      "overflow_y": null,
      "padding": null,
      "right": null,
      "top": null,
      "visibility": null,
      "width": null
     }
    },
    "5fe8b6bce900452b8dc023b37c053e31": {
     "model_module": "@jupyter-widgets/controls",
     "model_module_version": "1.5.0",
     "model_name": "HBoxModel",
     "state": {
      "_dom_classes": [],
      "_model_module": "@jupyter-widgets/controls",
      "_model_module_version": "1.5.0",
      "_model_name": "HBoxModel",
      "_view_count": null,
      "_view_module": "@jupyter-widgets/controls",
      "_view_module_version": "1.5.0",
      "_view_name": "HBoxView",
      "box_style": "",
      "children": [
       "IPY_MODEL_db07b53161cb4aefb53f7cbeff7d0481",
       "IPY_MODEL_0ecdf66d60e649299bba2bed24c96298",
       "IPY_MODEL_96bb1e5a7d604de5a1a4128414a449ef"
      ],
      "layout": "IPY_MODEL_4aff5224a8154d62be1ca706fdcafee1"
     }
    },
    "61c4e366d1ba42519382328a5826b51c": {
     "model_module": "@jupyter-widgets/controls",
     "model_module_version": "1.5.0",
     "model_name": "FloatProgressModel",
     "state": {
      "_dom_classes": [],
      "_model_module": "@jupyter-widgets/controls",
      "_model_module_version": "1.5.0",
      "_model_name": "FloatProgressModel",
      "_view_count": null,
      "_view_module": "@jupyter-widgets/controls",
      "_view_module_version": "1.5.0",
      "_view_name": "ProgressView",
      "bar_style": "success",
      "description": "",
      "description_tooltip": null,
      "layout": "IPY_MODEL_9a84a27bfc4948d5ac464426ed8d48ca",
      "max": 48,
      "min": 0,
      "orientation": "horizontal",
      "style": "IPY_MODEL_7f975f6b669f4544b8a0e33dcb088be4",
      "value": 48
     }
    },
    "71ffe7a4a8bb45559cab607301e4e1fe": {
     "model_module": "@jupyter-widgets/controls",
     "model_module_version": "1.5.0",
     "model_name": "HTMLModel",
     "state": {
      "_dom_classes": [],
      "_model_module": "@jupyter-widgets/controls",
      "_model_module_version": "1.5.0",
      "_model_name": "HTMLModel",
      "_view_count": null,
      "_view_module": "@jupyter-widgets/controls",
      "_view_module_version": "1.5.0",
      "_view_name": "HTMLView",
      "description": "",
      "description_tooltip": null,
      "layout": "IPY_MODEL_010f31e2dd884f98a00381cccf5026e9",
      "placeholder": "​",
      "style": "IPY_MODEL_99ac2d3c538445aaa22bb647b6ba2da0",
      "value": "vocab.txt: 100%"
     }
    },
    "7f975f6b669f4544b8a0e33dcb088be4": {
     "model_module": "@jupyter-widgets/controls",
     "model_module_version": "1.5.0",
     "model_name": "ProgressStyleModel",
     "state": {
      "_model_module": "@jupyter-widgets/controls",
      "_model_module_version": "1.5.0",
      "_model_name": "ProgressStyleModel",
      "_view_count": null,
      "_view_module": "@jupyter-widgets/base",
      "_view_module_version": "1.2.0",
      "_view_name": "StyleView",
      "bar_color": null,
      "description_width": ""
     }
    },
    "7fff72d3151e47ca87485d7be20087c1": {
     "model_module": "@jupyter-widgets/base",
     "model_module_version": "1.2.0",
     "model_name": "LayoutModel",
     "state": {
      "_model_module": "@jupyter-widgets/base",
      "_model_module_version": "1.2.0",
      "_model_name": "LayoutModel",
      "_view_count": null,
      "_view_module": "@jupyter-widgets/base",
      "_view_module_version": "1.2.0",
      "_view_name": "LayoutView",
      "align_content": null,
      "align_items": null,
      "align_self": null,
      "border": null,
      "bottom": null,
      "display": null,
      "flex": null,
      "flex_flow": null,
      "grid_area": null,
      "grid_auto_columns": null,
      "grid_auto_flow": null,
      "grid_auto_rows": null,
      "grid_column": null,
      "grid_gap": null,
      "grid_row": null,
      "grid_template_areas": null,
      "grid_template_columns": null,
      "grid_template_rows": null,
      "height": null,
      "justify_content": null,
      "justify_items": null,
      "left": null,
      "margin": null,
      "max_height": null,
      "max_width": null,
      "min_height": null,
      "min_width": null,
      "object_fit": null,
      "object_position": null,
      "order": null,
      "overflow": null,
      "overflow_x": null,
      "overflow_y": null,
      "padding": null,
      "right": null,
      "top": null,
      "visibility": null,
      "width": null
     }
    },
    "84ab8a8a584448b798edf63206180019": {
     "model_module": "@jupyter-widgets/controls",
     "model_module_version": "1.5.0",
     "model_name": "DescriptionStyleModel",
     "state": {
      "_model_module": "@jupyter-widgets/controls",
      "_model_module_version": "1.5.0",
      "_model_name": "DescriptionStyleModel",
      "_view_count": null,
      "_view_module": "@jupyter-widgets/base",
      "_view_module_version": "1.2.0",
      "_view_name": "StyleView",
      "description_width": ""
     }
    },
    "84b3843c4a0f4326bfd61d1a31d9eef8": {
     "model_module": "@jupyter-widgets/base",
     "model_module_version": "1.2.0",
     "model_name": "LayoutModel",
     "state": {
      "_model_module": "@jupyter-widgets/base",
      "_model_module_version": "1.2.0",
      "_model_name": "LayoutModel",
      "_view_count": null,
      "_view_module": "@jupyter-widgets/base",
      "_view_module_version": "1.2.0",
      "_view_name": "LayoutView",
      "align_content": null,
      "align_items": null,
      "align_self": null,
      "border": null,
      "bottom": null,
      "display": null,
      "flex": null,
      "flex_flow": null,
      "grid_area": null,
      "grid_auto_columns": null,
      "grid_auto_flow": null,
      "grid_auto_rows": null,
      "grid_column": null,
      "grid_gap": null,
      "grid_row": null,
      "grid_template_areas": null,
      "grid_template_columns": null,
      "grid_template_rows": null,
      "height": null,
      "justify_content": null,
      "justify_items": null,
      "left": null,
      "margin": null,
      "max_height": null,
      "max_width": null,
      "min_height": null,
      "min_width": null,
      "object_fit": null,
      "object_position": null,
      "order": null,
      "overflow": null,
      "overflow_x": null,
      "overflow_y": null,
      "padding": null,
      "right": null,
      "top": null,
      "visibility": null,
      "width": null
     }
    },
    "96bb1e5a7d604de5a1a4128414a449ef": {
     "model_module": "@jupyter-widgets/controls",
     "model_module_version": "1.5.0",
     "model_name": "HTMLModel",
     "state": {
      "_dom_classes": [],
      "_model_module": "@jupyter-widgets/controls",
      "_model_module_version": "1.5.0",
      "_model_name": "HTMLModel",
      "_view_count": null,
      "_view_module": "@jupyter-widgets/controls",
      "_view_module_version": "1.5.0",
      "_view_name": "HTMLView",
      "description": "",
      "description_tooltip": null,
      "layout": "IPY_MODEL_c01134b312fd4f56b4845a15093ef9d0",
      "placeholder": "​",
      "style": "IPY_MODEL_b5c6ce38f8124fc5ac77873acfe80a6d",
      "value": " 570/570 [00:00&lt;00:00, 16.8kB/s]"
     }
    },
    "99ac2d3c538445aaa22bb647b6ba2da0": {
     "model_module": "@jupyter-widgets/controls",
     "model_module_version": "1.5.0",
     "model_name": "DescriptionStyleModel",
     "state": {
      "_model_module": "@jupyter-widgets/controls",
      "_model_module_version": "1.5.0",
      "_model_name": "DescriptionStyleModel",
      "_view_count": null,
      "_view_module": "@jupyter-widgets/base",
      "_view_module_version": "1.2.0",
      "_view_name": "StyleView",
      "description_width": ""
     }
    },
    "9a84a27bfc4948d5ac464426ed8d48ca": {
     "model_module": "@jupyter-widgets/base",
     "model_module_version": "1.2.0",
     "model_name": "LayoutModel",
     "state": {
      "_model_module": "@jupyter-widgets/base",
      "_model_module_version": "1.2.0",
      "_model_name": "LayoutModel",
      "_view_count": null,
      "_view_module": "@jupyter-widgets/base",
      "_view_module_version": "1.2.0",
      "_view_name": "LayoutView",
      "align_content": null,
      "align_items": null,
      "align_self": null,
      "border": null,
      "bottom": null,
      "display": null,
      "flex": null,
      "flex_flow": null,
      "grid_area": null,
      "grid_auto_columns": null,
      "grid_auto_flow": null,
      "grid_auto_rows": null,
      "grid_column": null,
      "grid_gap": null,
      "grid_row": null,
      "grid_template_areas": null,
      "grid_template_columns": null,
      "grid_template_rows": null,
      "height": null,
      "justify_content": null,
      "justify_items": null,
      "left": null,
      "margin": null,
      "max_height": null,
      "max_width": null,
      "min_height": null,
      "min_width": null,
      "object_fit": null,
      "object_position": null,
      "order": null,
      "overflow": null,
      "overflow_x": null,
      "overflow_y": null,
      "padding": null,
      "right": null,
      "top": null,
      "visibility": null,
      "width": null
     }
    },
    "9d16a275485e4af6a779635d2b3b2758": {
     "model_module": "@jupyter-widgets/controls",
     "model_module_version": "1.5.0",
     "model_name": "HTMLModel",
     "state": {
      "_dom_classes": [],
      "_model_module": "@jupyter-widgets/controls",
      "_model_module_version": "1.5.0",
      "_model_name": "HTMLModel",
      "_view_count": null,
      "_view_module": "@jupyter-widgets/controls",
      "_view_module_version": "1.5.0",
      "_view_name": "HTMLView",
      "description": "",
      "description_tooltip": null,
      "layout": "IPY_MODEL_d22d965a60d840f894f8711db7070d99",
      "placeholder": "​",
      "style": "IPY_MODEL_fb5719ba31574dfbb077a64b8dd8ae40",
      "value": " 48.0/48.0 [00:00&lt;00:00, 1.81kB/s]"
     }
    },
    "a236e4ea129741e181c10785e6419d21": {
     "model_module": "@jupyter-widgets/controls",
     "model_module_version": "1.5.0",
     "model_name": "HTMLModel",
     "state": {
      "_dom_classes": [],
      "_model_module": "@jupyter-widgets/controls",
      "_model_module_version": "1.5.0",
      "_model_name": "HTMLModel",
      "_view_count": null,
      "_view_module": "@jupyter-widgets/controls",
      "_view_module_version": "1.5.0",
      "_view_name": "HTMLView",
      "description": "",
      "description_tooltip": null,
      "layout": "IPY_MODEL_c718e604e5484535b11ff256718b3bc4",
      "placeholder": "​",
      "style": "IPY_MODEL_84ab8a8a584448b798edf63206180019",
      "value": "model.safetensors: 100%"
     }
    },
    "a8d1f7097bbb40a5b25f6db12a82f56a": {
     "model_module": "@jupyter-widgets/base",
     "model_module_version": "1.2.0",
     "model_name": "LayoutModel",
     "state": {
      "_model_module": "@jupyter-widgets/base",
      "_model_module_version": "1.2.0",
      "_model_name": "LayoutModel",
      "_view_count": null,
      "_view_module": "@jupyter-widgets/base",
      "_view_module_version": "1.2.0",
      "_view_name": "LayoutView",
      "align_content": null,
      "align_items": null,
      "align_self": null,
      "border": null,
      "bottom": null,
      "display": null,
      "flex": null,
      "flex_flow": null,
      "grid_area": null,
      "grid_auto_columns": null,
      "grid_auto_flow": null,
      "grid_auto_rows": null,
      "grid_column": null,
      "grid_gap": null,
      "grid_row": null,
      "grid_template_areas": null,
      "grid_template_columns": null,
      "grid_template_rows": null,
      "height": null,
      "justify_content": null,
      "justify_items": null,
      "left": null,
      "margin": null,
      "max_height": null,
      "max_width": null,
      "min_height": null,
      "min_width": null,
      "object_fit": null,
      "object_position": null,
      "order": null,
      "overflow": null,
      "overflow_x": null,
      "overflow_y": null,
      "padding": null,
      "right": null,
      "top": null,
      "visibility": null,
      "width": null
     }
    },
    "a9a9fb62770c4188a9797f199d2abf65": {
     "model_module": "@jupyter-widgets/base",
     "model_module_version": "1.2.0",
     "model_name": "LayoutModel",
     "state": {
      "_model_module": "@jupyter-widgets/base",
      "_model_module_version": "1.2.0",
      "_model_name": "LayoutModel",
      "_view_count": null,
      "_view_module": "@jupyter-widgets/base",
      "_view_module_version": "1.2.0",
      "_view_name": "LayoutView",
      "align_content": null,
      "align_items": null,
      "align_self": null,
      "border": null,
      "bottom": null,
      "display": null,
      "flex": null,
      "flex_flow": null,
      "grid_area": null,
      "grid_auto_columns": null,
      "grid_auto_flow": null,
      "grid_auto_rows": null,
      "grid_column": null,
      "grid_gap": null,
      "grid_row": null,
      "grid_template_areas": null,
      "grid_template_columns": null,
      "grid_template_rows": null,
      "height": null,
      "justify_content": null,
      "justify_items": null,
      "left": null,
      "margin": null,
      "max_height": null,
      "max_width": null,
      "min_height": null,
      "min_width": null,
      "object_fit": null,
      "object_position": null,
      "order": null,
      "overflow": null,
      "overflow_x": null,
      "overflow_y": null,
      "padding": null,
      "right": null,
      "top": null,
      "visibility": null,
      "width": null
     }
    },
    "b5c6ce38f8124fc5ac77873acfe80a6d": {
     "model_module": "@jupyter-widgets/controls",
     "model_module_version": "1.5.0",
     "model_name": "DescriptionStyleModel",
     "state": {
      "_model_module": "@jupyter-widgets/controls",
      "_model_module_version": "1.5.0",
      "_model_name": "DescriptionStyleModel",
      "_view_count": null,
      "_view_module": "@jupyter-widgets/base",
      "_view_module_version": "1.2.0",
      "_view_name": "StyleView",
      "description_width": ""
     }
    },
    "bba0a9c30dae4e23922a836642a4e585": {
     "model_module": "@jupyter-widgets/base",
     "model_module_version": "1.2.0",
     "model_name": "LayoutModel",
     "state": {
      "_model_module": "@jupyter-widgets/base",
      "_model_module_version": "1.2.0",
      "_model_name": "LayoutModel",
      "_view_count": null,
      "_view_module": "@jupyter-widgets/base",
      "_view_module_version": "1.2.0",
      "_view_name": "LayoutView",
      "align_content": null,
      "align_items": null,
      "align_self": null,
      "border": null,
      "bottom": null,
      "display": null,
      "flex": null,
      "flex_flow": null,
      "grid_area": null,
      "grid_auto_columns": null,
      "grid_auto_flow": null,
      "grid_auto_rows": null,
      "grid_column": null,
      "grid_gap": null,
      "grid_row": null,
      "grid_template_areas": null,
      "grid_template_columns": null,
      "grid_template_rows": null,
      "height": null,
      "justify_content": null,
      "justify_items": null,
      "left": null,
      "margin": null,
      "max_height": null,
      "max_width": null,
      "min_height": null,
      "min_width": null,
      "object_fit": null,
      "object_position": null,
      "order": null,
      "overflow": null,
      "overflow_x": null,
      "overflow_y": null,
      "padding": null,
      "right": null,
      "top": null,
      "visibility": null,
      "width": null
     }
    },
    "c01134b312fd4f56b4845a15093ef9d0": {
     "model_module": "@jupyter-widgets/base",
     "model_module_version": "1.2.0",
     "model_name": "LayoutModel",
     "state": {
      "_model_module": "@jupyter-widgets/base",
      "_model_module_version": "1.2.0",
      "_model_name": "LayoutModel",
      "_view_count": null,
      "_view_module": "@jupyter-widgets/base",
      "_view_module_version": "1.2.0",
      "_view_name": "LayoutView",
      "align_content": null,
      "align_items": null,
      "align_self": null,
      "border": null,
      "bottom": null,
      "display": null,
      "flex": null,
      "flex_flow": null,
      "grid_area": null,
      "grid_auto_columns": null,
      "grid_auto_flow": null,
      "grid_auto_rows": null,
      "grid_column": null,
      "grid_gap": null,
      "grid_row": null,
      "grid_template_areas": null,
      "grid_template_columns": null,
      "grid_template_rows": null,
      "height": null,
      "justify_content": null,
      "justify_items": null,
      "left": null,
      "margin": null,
      "max_height": null,
      "max_width": null,
      "min_height": null,
      "min_width": null,
      "object_fit": null,
      "object_position": null,
      "order": null,
      "overflow": null,
      "overflow_x": null,
      "overflow_y": null,
      "padding": null,
      "right": null,
      "top": null,
      "visibility": null,
      "width": null
     }
    },
    "c5411ca2d81448c8b344dd21394b1dc6": {
     "model_module": "@jupyter-widgets/base",
     "model_module_version": "1.2.0",
     "model_name": "LayoutModel",
     "state": {
      "_model_module": "@jupyter-widgets/base",
      "_model_module_version": "1.2.0",
      "_model_name": "LayoutModel",
      "_view_count": null,
      "_view_module": "@jupyter-widgets/base",
      "_view_module_version": "1.2.0",
      "_view_name": "LayoutView",
      "align_content": null,
      "align_items": null,
      "align_self": null,
      "border": null,
      "bottom": null,
      "display": null,
      "flex": null,
      "flex_flow": null,
      "grid_area": null,
      "grid_auto_columns": null,
      "grid_auto_flow": null,
      "grid_auto_rows": null,
      "grid_column": null,
      "grid_gap": null,
      "grid_row": null,
      "grid_template_areas": null,
      "grid_template_columns": null,
      "grid_template_rows": null,
      "height": null,
      "justify_content": null,
      "justify_items": null,
      "left": null,
      "margin": null,
      "max_height": null,
      "max_width": null,
      "min_height": null,
      "min_width": null,
      "object_fit": null,
      "object_position": null,
      "order": null,
      "overflow": null,
      "overflow_x": null,
      "overflow_y": null,
      "padding": null,
      "right": null,
      "top": null,
      "visibility": null,
      "width": null
     }
    },
    "c718e604e5484535b11ff256718b3bc4": {
     "model_module": "@jupyter-widgets/base",
     "model_module_version": "1.2.0",
     "model_name": "LayoutModel",
     "state": {
      "_model_module": "@jupyter-widgets/base",
      "_model_module_version": "1.2.0",
      "_model_name": "LayoutModel",
      "_view_count": null,
      "_view_module": "@jupyter-widgets/base",
      "_view_module_version": "1.2.0",
      "_view_name": "LayoutView",
      "align_content": null,
      "align_items": null,
      "align_self": null,
      "border": null,
      "bottom": null,
      "display": null,
      "flex": null,
      "flex_flow": null,
      "grid_area": null,
      "grid_auto_columns": null,
      "grid_auto_flow": null,
      "grid_auto_rows": null,
      "grid_column": null,
      "grid_gap": null,
      "grid_row": null,
      "grid_template_areas": null,
      "grid_template_columns": null,
      "grid_template_rows": null,
      "height": null,
      "justify_content": null,
      "justify_items": null,
      "left": null,
      "margin": null,
      "max_height": null,
      "max_width": null,
      "min_height": null,
      "min_width": null,
      "object_fit": null,
      "object_position": null,
      "order": null,
      "overflow": null,
      "overflow_x": null,
      "overflow_y": null,
      "padding": null,
      "right": null,
      "top": null,
      "visibility": null,
      "width": null
     }
    },
    "c90c8d4e4e6547d192de1a4e9692939b": {
     "model_module": "@jupyter-widgets/base",
     "model_module_version": "1.2.0",
     "model_name": "LayoutModel",
     "state": {
      "_model_module": "@jupyter-widgets/base",
      "_model_module_version": "1.2.0",
      "_model_name": "LayoutModel",
      "_view_count": null,
      "_view_module": "@jupyter-widgets/base",
      "_view_module_version": "1.2.0",
      "_view_name": "LayoutView",
      "align_content": null,
      "align_items": null,
      "align_self": null,
      "border": null,
      "bottom": null,
      "display": null,
      "flex": null,
      "flex_flow": null,
      "grid_area": null,
      "grid_auto_columns": null,
      "grid_auto_flow": null,
      "grid_auto_rows": null,
      "grid_column": null,
      "grid_gap": null,
      "grid_row": null,
      "grid_template_areas": null,
      "grid_template_columns": null,
      "grid_template_rows": null,
      "height": null,
      "justify_content": null,
      "justify_items": null,
      "left": null,
      "margin": null,
      "max_height": null,
      "max_width": null,
      "min_height": null,
      "min_width": null,
      "object_fit": null,
      "object_position": null,
      "order": null,
      "overflow": null,
      "overflow_x": null,
      "overflow_y": null,
      "padding": null,
      "right": null,
      "top": null,
      "visibility": null,
      "width": null
     }
    },
    "cedb187d13584c36addb1990e6b0ea5f": {
     "model_module": "@jupyter-widgets/controls",
     "model_module_version": "1.5.0",
     "model_name": "DescriptionStyleModel",
     "state": {
      "_model_module": "@jupyter-widgets/controls",
      "_model_module_version": "1.5.0",
      "_model_name": "DescriptionStyleModel",
      "_view_count": null,
      "_view_module": "@jupyter-widgets/base",
      "_view_module_version": "1.2.0",
      "_view_name": "StyleView",
      "description_width": ""
     }
    },
    "d22d965a60d840f894f8711db7070d99": {
     "model_module": "@jupyter-widgets/base",
     "model_module_version": "1.2.0",
     "model_name": "LayoutModel",
     "state": {
      "_model_module": "@jupyter-widgets/base",
      "_model_module_version": "1.2.0",
      "_model_name": "LayoutModel",
      "_view_count": null,
      "_view_module": "@jupyter-widgets/base",
      "_view_module_version": "1.2.0",
      "_view_name": "LayoutView",
      "align_content": null,
      "align_items": null,
      "align_self": null,
      "border": null,
      "bottom": null,
      "display": null,
      "flex": null,
      "flex_flow": null,
      "grid_area": null,
      "grid_auto_columns": null,
      "grid_auto_flow": null,
      "grid_auto_rows": null,
      "grid_column": null,
      "grid_gap": null,
      "grid_row": null,
      "grid_template_areas": null,
      "grid_template_columns": null,
      "grid_template_rows": null,
      "height": null,
      "justify_content": null,
      "justify_items": null,
      "left": null,
      "margin": null,
      "max_height": null,
      "max_width": null,
      "min_height": null,
      "min_width": null,
      "object_fit": null,
      "object_position": null,
      "order": null,
      "overflow": null,
      "overflow_x": null,
      "overflow_y": null,
      "padding": null,
      "right": null,
      "top": null,
      "visibility": null,
      "width": null
     }
    },
    "dab754e4b35e4d7ca1ddbff6a1767642": {
     "model_module": "@jupyter-widgets/controls",
     "model_module_version": "1.5.0",
     "model_name": "ProgressStyleModel",
     "state": {
      "_model_module": "@jupyter-widgets/controls",
      "_model_module_version": "1.5.0",
      "_model_name": "ProgressStyleModel",
      "_view_count": null,
      "_view_module": "@jupyter-widgets/base",
      "_view_module_version": "1.2.0",
      "_view_name": "StyleView",
      "bar_color": null,
      "description_width": ""
     }
    },
    "db07b53161cb4aefb53f7cbeff7d0481": {
     "model_module": "@jupyter-widgets/controls",
     "model_module_version": "1.5.0",
     "model_name": "HTMLModel",
     "state": {
      "_dom_classes": [],
      "_model_module": "@jupyter-widgets/controls",
      "_model_module_version": "1.5.0",
      "_model_name": "HTMLModel",
      "_view_count": null,
      "_view_module": "@jupyter-widgets/controls",
      "_view_module_version": "1.5.0",
      "_view_name": "HTMLView",
      "description": "",
      "description_tooltip": null,
      "layout": "IPY_MODEL_052340b6f4f949bab48be3ed172edff0",
      "placeholder": "​",
      "style": "IPY_MODEL_4f97cea08c7245e7b7cd9eee2c186132",
      "value": "config.json: 100%"
     }
    },
    "db7a1d4059494c2b8bfd6c765a3f26c7": {
     "model_module": "@jupyter-widgets/controls",
     "model_module_version": "1.5.0",
     "model_name": "DescriptionStyleModel",
     "state": {
      "_model_module": "@jupyter-widgets/controls",
      "_model_module_version": "1.5.0",
      "_model_name": "DescriptionStyleModel",
      "_view_count": null,
      "_view_module": "@jupyter-widgets/base",
      "_view_module_version": "1.2.0",
      "_view_name": "StyleView",
      "description_width": ""
     }
    },
    "dd3e056ed5244973806f261088af8010": {
     "model_module": "@jupyter-widgets/controls",
     "model_module_version": "1.5.0",
     "model_name": "HTMLModel",
     "state": {
      "_dom_classes": [],
      "_model_module": "@jupyter-widgets/controls",
      "_model_module_version": "1.5.0",
      "_model_name": "HTMLModel",
      "_view_count": null,
      "_view_module": "@jupyter-widgets/controls",
      "_view_module_version": "1.5.0",
      "_view_name": "HTMLView",
      "description": "",
      "description_tooltip": null,
      "layout": "IPY_MODEL_a9a9fb62770c4188a9797f199d2abf65",
      "placeholder": "​",
      "style": "IPY_MODEL_cedb187d13584c36addb1990e6b0ea5f",
      "value": " 232k/232k [00:00&lt;00:00, 2.79MB/s]"
     }
    },
    "e1ea75b3208c40fa80799e923b0f2f82": {
     "model_module": "@jupyter-widgets/controls",
     "model_module_version": "1.5.0",
     "model_name": "FloatProgressModel",
     "state": {
      "_dom_classes": [],
      "_model_module": "@jupyter-widgets/controls",
      "_model_module_version": "1.5.0",
      "_model_name": "FloatProgressModel",
      "_view_count": null,
      "_view_module": "@jupyter-widgets/controls",
      "_view_module_version": "1.5.0",
      "_view_name": "ProgressView",
      "bar_style": "success",
      "description": "",
      "description_tooltip": null,
      "layout": "IPY_MODEL_2b08a5551cdb4120886a3602e5acc39b",
      "max": 440449768,
      "min": 0,
      "orientation": "horizontal",
      "style": "IPY_MODEL_e416fd833419408c872d201019c191c1",
      "value": 440449768
     }
    },
    "e416fd833419408c872d201019c191c1": {
     "model_module": "@jupyter-widgets/controls",
     "model_module_version": "1.5.0",
     "model_name": "ProgressStyleModel",
     "state": {
      "_model_module": "@jupyter-widgets/controls",
      "_model_module_version": "1.5.0",
      "_model_name": "ProgressStyleModel",
      "_view_count": null,
      "_view_module": "@jupyter-widgets/base",
      "_view_module_version": "1.2.0",
      "_view_name": "StyleView",
      "bar_color": null,
      "description_width": ""
     }
    },
    "f0ea6847c18e43b9b10b51270b74111b": {
     "model_module": "@jupyter-widgets/controls",
     "model_module_version": "1.5.0",
     "model_name": "HTMLModel",
     "state": {
      "_dom_classes": [],
      "_model_module": "@jupyter-widgets/controls",
      "_model_module_version": "1.5.0",
      "_model_name": "HTMLModel",
      "_view_count": null,
      "_view_module": "@jupyter-widgets/controls",
      "_view_module_version": "1.5.0",
      "_view_name": "HTMLView",
      "description": "",
      "description_tooltip": null,
      "layout": "IPY_MODEL_4c065c2ee2eb48888b6a53bacdc19175",
      "placeholder": "​",
      "style": "IPY_MODEL_db7a1d4059494c2b8bfd6c765a3f26c7",
      "value": "tokenizer.json: 100%"
     }
    },
    "f42b802811294f63bbb1f48cddbda7bc": {
     "model_module": "@jupyter-widgets/controls",
     "model_module_version": "1.5.0",
     "model_name": "FloatProgressModel",
     "state": {
      "_dom_classes": [],
      "_model_module": "@jupyter-widgets/controls",
      "_model_module_version": "1.5.0",
      "_model_name": "FloatProgressModel",
      "_view_count": null,
      "_view_module": "@jupyter-widgets/controls",
      "_view_module_version": "1.5.0",
      "_view_name": "ProgressView",
      "bar_style": "success",
      "description": "",
      "description_tooltip": null,
      "layout": "IPY_MODEL_bba0a9c30dae4e23922a836642a4e585",
      "max": 231508,
      "min": 0,
      "orientation": "horizontal",
      "style": "IPY_MODEL_27d187ffbf3a4966bbab28f381296430",
      "value": 231508
     }
    },
    "fb5719ba31574dfbb077a64b8dd8ae40": {
     "model_module": "@jupyter-widgets/controls",
     "model_module_version": "1.5.0",
     "model_name": "DescriptionStyleModel",
     "state": {
      "_model_module": "@jupyter-widgets/controls",
      "_model_module_version": "1.5.0",
      "_model_name": "DescriptionStyleModel",
      "_view_count": null,
      "_view_module": "@jupyter-widgets/base",
      "_view_module_version": "1.2.0",
      "_view_name": "StyleView",
      "description_width": ""
     }
    }
   }
  }
 },
 "nbformat": 4,
 "nbformat_minor": 0
}
